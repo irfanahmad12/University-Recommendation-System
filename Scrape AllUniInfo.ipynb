{
 "cells": [
  {
   "cell_type": "code",
   "execution_count": 10,
   "id": "3c89d4c5",
   "metadata": {},
   "outputs": [],
   "source": [
    "from selenium.webdriver import Chrome\n",
    "from selenium.webdriver.chrome.service import Service\n",
    "from selenium.webdriver.common.by import By\n",
    "from selenium.common.exceptions import NoSuchElementException\n",
    "import pandas as pd"
   ]
  },
  {
   "cell_type": "code",
   "execution_count": 2,
   "id": "0dd7582d",
   "metadata": {},
   "outputs": [],
   "source": [
    "ser = Service('/home/irfan/Downloads/chromedriver_linux64')"
   ]
  },
  {
   "cell_type": "code",
   "execution_count": 3,
   "id": "c51c7acf",
   "metadata": {},
   "outputs": [],
   "source": [
    "driver = Chrome(service=ser)\n",
    "driver.maximize_window()"
   ]
  },
  {
   "cell_type": "code",
   "execution_count": 4,
   "id": "397116df",
   "metadata": {},
   "outputs": [],
   "source": [
    "driver.get('https://www.alluniversity.info/pakistan/')"
   ]
  },
  {
   "cell_type": "code",
   "execution_count": 5,
   "id": "e1d7e533",
   "metadata": {},
   "outputs": [],
   "source": [
    "top10 = {}\n",
    "universities = {}\n",
    "\n",
    "\n",
    "def loop_over_data(li, d, index=0):\n",
    "    for link in li:\n",
    "        anchor = link.find_element(By.TAG_NAME, 'a')\n",
    "        anc = anchor.get_attribute('href')\n",
    "        name = link.text[index:]\n",
    "        if anc not in top10:\n",
    "            d[name] = anc\n",
    "\n",
    "\n",
    "def scrape_date():\n",
    "    try:\n",
    "        for i in range(3):\n",
    "            ul = driver.find_elements(By.TAG_NAME, 'ul')\n",
    "            if i == 0:\n",
    "                top = ul[0].find_elements(By.TAG_NAME, 'li')\n",
    "                loop_over_data(top, top10, 3)\n",
    "                uni = ul[i+1].find_elements(By.TAG_NAME, 'li')\n",
    "            else:\n",
    "                uni = ul[0].find_elements(By.TAG_NAME, 'li')\n",
    "            loop_over_data(uni, universities)\n",
    "            next_page_link = driver.find_element(By.XPATH, \"//a[@title='Next Page']\")\n",
    "            next_page_link.click()\n",
    "    except NoSuchElementException:\n",
    "        return\n",
    "\n",
    "scrape_date()"
   ]
  },
  {
   "cell_type": "code",
   "execution_count": null,
   "id": "20c13a21",
   "metadata": {},
   "outputs": [],
   "source": [
    "top = {'Ranking': [], 'Year Established': [], 'Address': [], 'Phone': [], 'Fax': [], 'Website': []}\n",
    "other = {'Year Established': [], 'Address': [], 'Phone': [], 'Fax': [], 'Website': []}\n",
    "def loop_over_uni(lst, dict):\n",
    "    for link in lst:\n",
    "        driver.get(link)\n",
    "        tables = driver.find_elements(By.TAG_NAME, 'table')\n",
    "        for table in tables:\n",
    "            tr = table.find_elements(By.TAG_NAME, 'tr')\n",
    "            for row in tr:\n",
    "                th = row.find_element(By.TAG_NAME, 'th').text\n",
    "                try:\n",
    "                    span = row.find_element(By.TAG_NAME, 'span')\n",
    "                    if span != '':\n",
    "                        dict[th].append(span.text)\n",
    "                except:\n",
    "                    try:\n",
    "                        anchor = row.find_element(By.TAG_NAME, 'a')\n",
    "                        if anchor != '':\n",
    "                            dict[th].append(anchor.text)\n",
    "                    except:\n",
    "                        td = row.find_element(By.TAG_NAME, 'td').text\n",
    "                        if th in dict.keys():\n",
    "                            dict[th].append(td)\n",
    "                    td = row.find_element(By.TAG_NAME, 'td').text\n",
    "                    if th in dict.keys():\n",
    "                        dict[th].append(td)\n",
    "\n",
    "loop_over_uni(list(top10.values()), top)\n",
    "loop_over_uni(list(universities.values()), other)"
   ]
  },
  {
   "cell_type": "code",
   "execution_count": null,
   "id": "5c552089",
   "metadata": {},
   "outputs": [],
   "source": []
  }
 ],
 "metadata": {
  "kernelspec": {
   "display_name": "Python 3 (ipykernel)",
   "language": "python",
   "name": "python3"
  },
  "language_info": {
   "codemirror_mode": {
    "name": "ipython",
    "version": 3
   },
   "file_extension": ".py",
   "mimetype": "text/x-python",
   "name": "python",
   "nbconvert_exporter": "python",
   "pygments_lexer": "ipython3",
   "version": "3.10.6"
  }
 },
 "nbformat": 4,
 "nbformat_minor": 5
}
