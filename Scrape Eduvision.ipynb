{
 "cells": [
  {
   "cell_type": "markdown",
   "id": "72b3e422",
   "metadata": {},
   "source": [
    "# Import Necessary Modules"
   ]
  },
  {
   "cell_type": "code",
   "execution_count": 1,
   "id": "ca220c22",
   "metadata": {},
   "outputs": [],
   "source": [
    "from selenium.webdriver import Chrome\n",
    "from selenium.webdriver.chrome.service import Service\n",
    "from selenium.webdriver.chrome.options import Options\n",
    "from selenium.webdriver.common.by import By"
   ]
  },
  {
   "cell_type": "markdown",
   "id": "78ea2948",
   "metadata": {},
   "source": [
    "## Loading Webdriver for selenium"
   ]
  },
  {
   "cell_type": "code",
   "execution_count": 2,
   "id": "9efb0023",
   "metadata": {},
   "outputs": [],
   "source": [
    "ser = Service('/home/irfan/Downloads/chromedriver_linux64')"
   ]
  },
  {
   "cell_type": "markdown",
   "id": "d0d1c69f",
   "metadata": {},
   "source": [
    "## Initializing web driver"
   ]
  },
  {
   "cell_type": "code",
   "execution_count": 3,
   "id": "0f5f7a57",
   "metadata": {},
   "outputs": [],
   "source": [
    "myoptions = Options()\n",
    "driver = Chrome(service=ser, options=myoptions)"
   ]
  },
  {
   "cell_type": "markdown",
   "id": "d63ec412",
   "metadata": {},
   "source": [
    "## Opening the browser or redirecting to the link using get method"
   ]
  },
  {
   "cell_type": "code",
   "execution_count": 4,
   "id": "42d72d3e",
   "metadata": {},
   "outputs": [],
   "source": [
    "driver.get('https://www.eduvision.edu.pk/')"
   ]
  },
  {
   "cell_type": "markdown",
   "id": "cb0894c1",
   "metadata": {},
   "source": [
    "### Using Selenium Selectors, find all the anchor tags having class = 'list_hlaf_block' <br> and extract Universities name nested in anchors tags. <br>Scrape the home page and got anchor tags of all sectors "
   ]
  },
  {
   "cell_type": "code",
   "execution_count": 5,
   "id": "733d041a",
   "metadata": {},
   "outputs": [
    {
     "name": "stdout",
     "output_type": "stream",
     "text": [
      "['https://www.eduvision.edu.pk/institutions-search.php?name=&city=&level=University&cat=Private', 'https://www.eduvision.edu.pk/institutions-search.php?name=&city=&level=University&cat=Public']\n",
      "['Private Universities', 'Government Universities']\n"
     ]
    }
   ],
   "source": [
    "sectors_name = []\n",
    "sectors_links = []\n",
    "anchors = driver.find_elements(By.CLASS_NAME, \"list_hlaf_block\")\n",
    "anchors = anchors[-5:-7:-1]\n",
    "for a in anchors:\n",
    "    b = a.find_element(By.CSS_SELECTOR, 'b')\n",
    "    sectors_name.append(b.text)\n",
    "for a in anchors:\n",
    "    sectors_links.append(a.get_attribute('href'))\n",
    "print(sectors_links)\n",
    "print(sectors_name)"
   ]
  },
  {
   "cell_type": "markdown",
   "id": "6e88b4a4",
   "metadata": {},
   "source": [
    "### Scraping the links and names of universities of all Sectors"
   ]
  },
  {
   "cell_type": "code",
   "execution_count": 6,
   "id": "e937a7bf",
   "metadata": {},
   "outputs": [
    {
     "data": {
      "text/plain": [
       "{'Abasyn University, Peshawar': 'https://www.eduvision.edu.pk/abasyn-university-au-peshawar-ins-4138',\n",
       " 'Aga Khan University, Karachi': 'https://www.eduvision.edu.pk/aga-khan-university-aku-karachi-ins-45',\n",
       " 'Al- Hamd Islamic University, Quetta': 'https://www.eduvision.edu.pk/al-hamd-islamic-university-ahiu-quetta-ins-1312969502',\n",
       " 'Al-karam International University, Islamabad': 'https://www.eduvision.edu.pk/al-karam-international-university-aiu-islamabad-ins-1485394958',\n",
       " 'Al-khair University, Bhimber': 'https://www.eduvision.edu.pk/al-khair-university-au-bhimber-ins-1324047726',\n",
       " 'Al-khair University [ajk], Islamabad': 'https://www.eduvision.edu.pk/al-khair-university-ajk-al-khair-islamabad-ins-46',\n",
       " 'Ali Institute Of Education, Lahore': 'https://www.eduvision.edu.pk/ali-institute-of-education-aie-lahore-ins-1314608611',\n",
       " 'Bahria University Medical & Dental College, Karachi': 'https://www.eduvision.edu.pk/bahria-university-medical-dental-college-bumdc-karachi-ins-1312116604',\n",
       " 'Baqai Medical University/hospital, Karachi': 'https://www.eduvision.edu.pk/baqai-medical-university-hospital-baqai-karachi-ins-47',\n",
       " 'Beaconhouse National University, Lahore': 'https://www.eduvision.edu.pk/beaconhouse-national-university-bnu-lahore-ins-3957',\n",
       " 'Capital University Of Science And Technology, Islamabad': 'https://www.eduvision.edu.pk/capital-university-of-science-and-technology-cust-islamabad-ins-710',\n",
       " 'Cecos University Of Information Tech. & Emerging Sciences, Peshawar': 'https://www.eduvision.edu.pk/cecos-university-of-information-tech-emerging-sciences-cecos-peshawar-ins-48',\n",
       " 'City University Of Science & Information Technology, Peshawar': 'https://www.eduvision.edu.pk/city-university-of-science-information-technology-cusit-peshawar-ins-49',\n",
       " 'Dadabhoy Institute Of Higher Education, Karachi': 'https://www.eduvision.edu.pk/dadabhoy-institute-of-higher-education-dihe-karachi-ins-874',\n",
       " 'Dha Suffa University(main Campus), Karachi': 'https://www.eduvision.edu.pk/dha-suffa-universitymain-campus-dsu-karachi-ins-1322850088',\n",
       " 'Forman Christian College, Lahore': 'https://www.eduvision.edu.pk/forman-christian-college-fcc-lahore-ins-347',\n",
       " 'Foundation University, Islamabad': 'https://www.eduvision.edu.pk/foundation-university-fu-islamabad-ins-821',\n",
       " 'Gandhara University, Peshawar': 'https://www.eduvision.edu.pk/gandhara-university-gu-peshawar-ins-3227',\n",
       " 'Ghulam Ishaq Khan Institute Of Engineering Sciences & Technology, Swabi': 'https://www.eduvision.edu.pk/ghulam-ishaq-khan-institute-of-engineering-sciences-technology-giki-swabi-ins-50',\n",
       " 'Gift University, Gujranwala': 'https://www.eduvision.edu.pk/gift-university-gift-gujranwala-ins-3152',\n",
       " 'Grand Asian University Sialkot, Sialkot': 'https://www.eduvision.edu.pk/grand-asian-university-sialkot-gaus-sialkot-ins-1666095767',\n",
       " 'Green International University, Lahore': 'https://www.eduvision.edu.pk/green-international-university-giu-lahore-ins-1610645445',\n",
       " 'Greenwich University, Karachi': 'https://www.eduvision.edu.pk/greenwich-university-greenwich-karachi-ins-51',\n",
       " 'Habib University, Karachi': 'https://www.eduvision.edu.pk/habib-university-hu-karachi-ins-1391447301',\n",
       " 'Hajvery University, Lahore': 'https://www.eduvision.edu.pk/hajvery-university-hu-lahore-ins-1066',\n",
       " 'Hamdard University, Karachi': 'https://www.eduvision.edu.pk/hamdard-university-hamdard-karachi-ins-52',\n",
       " 'Hamdard University-faisalabad, Faisalabad': 'https://www.eduvision.edu.pk/hamdard-university-faisalabad-hamdard-faisalabad-ins-3146',\n",
       " 'Hitec University, Taxila': 'https://www.eduvision.edu.pk/hitec-university-hitec-taxila-ins-4120',\n",
       " 'Ibadat International University Islamabad, Islamabad': 'https://www.eduvision.edu.pk/ibadat-international-university-islamabad-iiui-islamabad-ins-1634484803',\n",
       " 'Ilma University, Karachi': 'https://www.eduvision.edu.pk/ilma-university-iu-karachi-ins-1575899450',\n",
       " 'Imperial College Of Business Studies, Lahore': 'https://www.eduvision.edu.pk/imperial-college-of-business-studies-icbs-lahore-ins-3228',\n",
       " 'Indus University, Karachi': 'https://www.eduvision.edu.pk/indus-university-iu-karachi-ins-3221',\n",
       " 'Indus Valley School Of Art And Architecture, Karachi': 'https://www.eduvision.edu.pk/indus-valley-school-of-art-and-architecture-ivsaa-karachi-ins-53',\n",
       " 'Institute Of Business And Technology(main Campus), Karachi': 'https://www.eduvision.edu.pk/institute-of-business-and-technologymain-campus-ibt-karachi-ins-1322851375',\n",
       " 'Institute Of Business Management, Karachi': 'https://www.eduvision.edu.pk/institute-of-business-management-iobm-karachi-ins-54',\n",
       " 'Institute Of Southern Punjab, Multan': 'https://www.eduvision.edu.pk/institute-of-southern-punjab-isp-multan-ins-1310586756',\n",
       " 'Iqra National University, Peshawar': 'https://www.eduvision.edu.pk/iqra-national-university-inu-peshawar-ins-1311868698',\n",
       " 'Iqra University [kch], Karachi': 'https://www.eduvision.edu.pk/iqra-university-kch-iqra-karachi-ins-55',\n",
       " 'Isra University/hospital, Hyderabad': 'https://www.eduvision.edu.pk/isra-university-hospital-isra-hyderabad-ins-56',\n",
       " 'Jinnah University For Women, Karachi': 'https://www.eduvision.edu.pk/jinnah-university-for-women-juw-karachi-ins-57',\n",
       " 'Karachi Institute Of Economics & Technology, Karachi': 'https://www.eduvision.edu.pk/karachi-institute-of-economics-technology-kiet-karachi-ins-58',\n",
       " 'Karachi School Of Business & Leadership, Karachi': 'https://www.eduvision.edu.pk/karachi-school-of-business-leadership-ksbl-karachi-ins-1393157193',\n",
       " 'Kasb [ Khadim Ali Shah Bukhari ] Institute Of Technology, Karachi': 'https://www.eduvision.edu.pk/kasb-khadim-ali-shah-bukhari-institute-of-technology-kasbit-karachi-ins-59',\n",
       " 'Lahore City University, Lahore': 'https://www.eduvision.edu.pk/lahore-city-university-lcu-lahore-ins-1311001100',\n",
       " 'Lahore Garrison University, Lahore': 'https://www.eduvision.edu.pk/lahore-garrison-university-lgu-lahore-ins-1345089286',\n",
       " 'Lahore International University, Lahore': 'https://www.eduvision.edu.pk/lahore-international-university-liu-lahore-ins-1311498219',\n",
       " 'Lahore Leads University, Lahore': 'https://www.eduvision.edu.pk/lahore-leads-university-llu-lahore-ins-1310989759',\n",
       " 'Lahore Leads University ( Faculty Of Engineering ), Lahore': 'https://www.eduvision.edu.pk/lahore-leads-university-faculty-of-engineering-ucest-lahore-ins-1472567334',\n",
       " 'Lahore School Of Economics, Lahore': 'https://www.eduvision.edu.pk/lahore-school-of-economics-lse-lahore-ins-60',\n",
       " 'Lahore University Of Management Sciences, Lahore': 'https://www.eduvision.edu.pk/lahore-university-of-management-sciences-lums-lahore-ins-61',\n",
       " 'Metropolitan University Karachi, Karachi': 'https://www.eduvision.edu.pk/metropolitan-university-karachi-muk-karachi-ins-1542689907',\n",
       " 'Minhaj University, Lahore': 'https://www.eduvision.edu.pk/minhaj-university-mul-lahore-ins-4115',\n",
       " 'Mohi-ud-din Islamic University, Mir Pur (ajk)': 'https://www.eduvision.edu.pk/mohi-ud-din-islamic-university-miu-mir-pur-ajk-ins-62',\n",
       " 'Mohiuddin Islamic University[islamabad Campus], Islamabad': 'https://www.eduvision.edu.pk/mohiuddin-islamic-universityislamabad-campus-miu-islamabad-ins-1313148798',\n",
       " 'Muhammad Ali Jinnah University, Karachi': 'https://www.eduvision.edu.pk/muhammad-ali-jinnah-university-maju-karachi-ins-63',\n",
       " 'Muslim Youth University, Islamabad': 'https://www.eduvision.edu.pk/muslim-youth-university-myu-islamabad-ins-1445959373',\n",
       " 'National College Of Business Administration And Economics, Lahore, Lahore': 'https://www.eduvision.edu.pk/national-college-of-business-administration-and-economics-lahore-ncbae-lahore-ins-2480',\n",
       " 'National University, Karachi': 'https://www.eduvision.edu.pk/national-university-nu-karachi-ins-1472222889',\n",
       " 'National University Of Medical Sciences, Rawalpindi': 'https://www.eduvision.edu.pk/national-university-of-medical-sciences-nums-rawalpindi-ins-1454524899',\n",
       " 'Nazir Hussain University, Karachi': 'https://www.eduvision.edu.pk/nazir-hussain-university-nhu-karachi-ins-1323344867',\n",
       " 'Newports Institute Of Communications And Economics, Karachi': 'https://www.eduvision.edu.pk/newports-institute-of-communications-and-economics-newports-karachi-ins-783',\n",
       " 'Northern University, Nowshera': 'https://www.eduvision.edu.pk/northern-university-nu-nowshera-ins-3962',\n",
       " 'Northern University, Islamabad': 'https://www.eduvision.edu.pk/northern-university-nu-islamabad-ins-703',\n",
       " 'Nur International University, Lahore': 'https://www.eduvision.edu.pk/nur-international-university-niu-lahore-ins-1445753678',\n",
       " 'Pimsat Institute Of Higher Education [lhr], Lahore': 'https://www.eduvision.edu.pk/pimsat-institute-of-higher-education-lhr-pimsat-lahore-ins-1311062753',\n",
       " 'Preston University, Karachi': 'https://www.eduvision.edu.pk/preston-university-pu-karachi-ins-1323350676',\n",
       " 'Preston University [fdb], Faisalabad': 'https://www.eduvision.edu.pk/preston-university-fdb-preston-faisalabad-ins-644',\n",
       " 'Preston University [guj], Gujranwala': 'https://www.eduvision.edu.pk/preston-university-guj-preston-gujranwala-ins-646',\n",
       " 'Preston University [kht], Kohat': 'https://www.eduvision.edu.pk/preston-university-kht-preston-kohat-ins-639',\n",
       " 'Abbottabad University Of Science And Technology, Abbottabad': 'https://www.eduvision.edu.pk/abbottabad-university-of-science-and-technology-aust-abbottabad-ins-1440821050',\n",
       " 'Abdul Wali Khan University, Mardan, Mardan': 'https://www.eduvision.edu.pk/abdul-wali-khan-university-mardan-awkum-mardan-ins-1312021743',\n",
       " 'Air University, Islamabad': 'https://www.eduvision.edu.pk/air-university-au-islamabad-ins-884',\n",
       " 'Allama Iqbal Open University, Islamabad': 'https://www.eduvision.edu.pk/allama-iqbal-open-university-aiou-islamabad-ins-5',\n",
       " 'Aror University Of Art, Architecture, Design And Heritage , Sukkur': 'https://www.eduvision.edu.pk/aror-university-of-art-architecture-design-and-heritage-auaadh-sukkur-ins-1672651213',\n",
       " 'Baba Guru Nanak University, Nankana Sahib': 'https://www.eduvision.edu.pk/baba-guru-nanak-university-gnu-nankana-sahib-ins-1666868317',\n",
       " 'Bacha Khan University, Charsadda': 'https://www.eduvision.edu.pk/bacha-khan-university-bku-charsadda-ins-1348767933',\n",
       " 'Bahauddin Zakariya University, Multan, Multan': 'https://www.eduvision.edu.pk/bahauddin-zakariya-university-multan-bzu-multan-ins-6',\n",
       " 'Bahauddin Zakria University,multan[d.g.khan Campus], D.g.khan': 'https://www.eduvision.edu.pk/bahauddin-zakria-universitymultandgkhan-campus-bdzu-dgkhan-ins-1313227444',\n",
       " 'Bahria University, E-8 Campus, Islamabad': 'https://www.eduvision.edu.pk/bahria-university-e-8-campus-bu-islamabad-ins-7',\n",
       " 'Balochistan University Of Engineering & Technology, Khuzdar': 'https://www.eduvision.edu.pk/balochistan-university-of-engineering-technology-buet-khuzdar-ins-8',\n",
       " 'Balochistan University Of It & Management Sciences, Quetta': 'https://www.eduvision.edu.pk/balochistan-university-of-it-management-sciences-buitms-quetta-ins-1065',\n",
       " 'Benazir Bhutto Shaheed University, Lyari, Karachi': 'https://www.eduvision.edu.pk/benazir-bhutto-shaheed-university-lyari-bbsul-karachi-ins-1319188741',\n",
       " 'Bolan Medical College / Bolan Hospital, Quetta': 'https://www.eduvision.edu.pk/bolan-medical-college-bolan-hospital-bmc-quetta-ins-90',\n",
       " 'Cholistan University Of Veterinary & Animal Sciences, Bahawal Pur': 'https://www.eduvision.edu.pk/cholistan-university-of-veterinary-animal-sciences-cuvas-bahawal-pur-ins-1550507969',\n",
       " 'Comsats University, Islamabad': 'https://www.eduvision.edu.pk/comsats-university-comsats-islamabad-ins-9',\n",
       " 'Dawood University Of Engineering And Technology, Karachi': 'https://www.eduvision.edu.pk/dawood-university-of-engineering-and-technology-duet-karachi-ins-619',\n",
       " 'Dow University Of Health Sciences, Karachi': 'https://www.eduvision.edu.pk/dow-university-of-health-sciences-duhs-karachi-ins-3226',\n",
       " 'Faisalabad Medical University, Faisalabad': 'https://www.eduvision.edu.pk/faisalabad-medical-university-fmu-faisalabad-ins-1568309000',\n",
       " 'Fata University, Darra Adam Khail': 'https://www.eduvision.edu.pk/fata-university-fu-darra-adam-khail-ins-1472138453',\n",
       " 'Fatima Jinnah Medical University, Lahore': 'https://www.eduvision.edu.pk/fatima-jinnah-medical-university-fjmu-lahore-ins-77',\n",
       " 'Fatima Jinnah Women University, Rawalpindi': 'https://www.eduvision.edu.pk/fatima-jinnah-women-university-fjwu-rawalpindi-ins-10',\n",
       " 'Federal Urdu University Of Arts Science & Technology, Islamabad': 'https://www.eduvision.edu.pk/federal-urdu-university-of-arts-science-technology-fuuast-islamabad-ins-3149',\n",
       " 'Ghazi University, D.g.khan': 'https://www.eduvision.edu.pk/ghazi-university-gu-dgkhan-ins-1409411508',\n",
       " 'Gomal University, D.i. Khan': 'https://www.eduvision.edu.pk/gomal-university-gu-di-khan-ins-11',\n",
       " 'Government College University, Faisalabad': 'https://www.eduvision.edu.pk/government-college-university-gcu-faisalabad-ins-279',\n",
       " 'Government College University, Lahore': 'https://www.eduvision.edu.pk/government-college-university-gcu-lahore-ins-12',\n",
       " 'Government College University Hyderabad, Hyderabad': 'https://www.eduvision.edu.pk/government-college-university-hyderabad-gcuh-hyderabad-ins-1569225159',\n",
       " 'Government College Women University, Faisalabad': 'https://www.eduvision.edu.pk/government-college-women-university-gcwu-faisalabad-ins-1389192788',\n",
       " 'Government College Women University, Sialkot': 'https://www.eduvision.edu.pk/government-college-women-university-gcwu-sialkot-ins-1411921503',\n",
       " 'Hazara University, Mansehra': 'https://www.eduvision.edu.pk/hazara-university-hu-mansehra-ins-13',\n",
       " 'Hazara University [havellian Campus], Havelian': 'https://www.eduvision.edu.pk/hazara-university-havellian-campus-hu-havelian-ins-4234',\n",
       " 'Information Technology University, Lahore': 'https://www.eduvision.edu.pk/information-technology-university-itu-lahore-ins-1348766915',\n",
       " 'Institute Of Business Administration [khi], Karachi': 'https://www.eduvision.edu.pk/institute-of-business-administration-khi-iba-karachi-ins-14',\n",
       " 'Institute Of Management Sciences, Peshawar': 'https://www.eduvision.edu.pk/institute-of-management-sciences-ims-peshawar-ins-892',\n",
       " 'Institute Of Southern Punjab (girls Campus), Multan': 'https://www.eduvision.edu.pk/institute-of-southern-punjab-girls-campus-isp-multan-ins-1506139358',\n",
       " 'Institute Of Space Technology, Islamabad': 'https://www.eduvision.edu.pk/institute-of-space-technology-ist-islamabad-ins-721',\n",
       " 'International Islamic University, Islamabad': 'https://www.eduvision.edu.pk/international-islamic-university-iiu-islamabad-ins-15',\n",
       " 'Islamia College University, Peshawar': 'https://www.eduvision.edu.pk/islamia-college-university-icu-peshawar-ins-219',\n",
       " 'Jinnah Sindh Medical University, Karachi': 'https://www.eduvision.edu.pk/jinnah-sindh-medical-university-jsmu-karachi-ins-1387126162',\n",
       " 'Karakuram International University, Gilgit': 'https://www.eduvision.edu.pk/karakuram-international-university-kiu-gilgit-ins-714',\n",
       " 'Khawaja Fareed University Of Engineering & Information Technology, Rahim Yar Khan': 'https://www.eduvision.edu.pk/khawaja-fareed-university-of-engineering-information-technology-kfueit-rahim-yar-khan-ins-1410285491',\n",
       " 'Khushal Khan Khattak University, Karak': 'https://www.eduvision.edu.pk/khushal-khan-khattak-university-kku-karak-ins-1377887192',\n",
       " 'Khyber Medical University, Peshawar': 'https://www.eduvision.edu.pk/khyber-medical-university-kmu-peshawar-ins-1310413172',\n",
       " 'King Edward Medical University / Mio Hospital, Lahore': 'https://www.eduvision.edu.pk/king-edward-medical-university-mio-hospital-kemu-lahore-ins-78',\n",
       " 'Kinnaird College For Women, Lahore': 'https://www.eduvision.edu.pk/kinnaird-college-for-women-kinnaird-lahore-ins-682',\n",
       " 'Kohat University Of Science & Technology, Kohat': 'https://www.eduvision.edu.pk/kohat-university-of-science-technology-kust-kohat-ins-17',\n",
       " 'Kohsar University, Murree': 'https://www.eduvision.edu.pk/kohsar-university-ku-murree-ins-1613568403',\n",
       " 'Lahore College For Women University, Lahore': 'https://www.eduvision.edu.pk/lahore-college-for-women-university-lcwu-lahore-ins-18',\n",
       " 'Lasbela University Of Agriculture, Water And Marine Sciences, Uthal, Lasbela': 'https://www.eduvision.edu.pk/lasbela-university-of-agriculture-water-and-marine-sciences-uthal-luawms-lasbela-ins-1349506908',\n",
       " 'Liaquat University Of Medical And Health Sciences, Jamshoro': 'https://www.eduvision.edu.pk/liaquat-university-of-medical-and-health-sciences-lumhs-jamshoro-ins-19',\n",
       " 'Mehran University Of Engineering & Technology, Jamshoro': 'https://www.eduvision.edu.pk/mehran-university-of-engineering-technology-muet-jamshoro-ins-20',\n",
       " 'Mir Chakar Khan Rind University, Sibi': 'https://www.eduvision.edu.pk/mir-chakar-khan-rind-university-mckru-sibi-ins-1562601944',\n",
       " 'Mir Chakar Khan Rind University Of Technology, D.g.khan': 'https://www.eduvision.edu.pk/mir-chakar-khan-rind-university-of-technology-mcut-dgkhan-ins-1566566490',\n",
       " 'Mirpur University Of Science And Technology, Mir Pur (ajk)': 'https://www.eduvision.edu.pk/mirpur-university-of-science-and-technology-must-mir-pur-ajk-ins-1311594007',\n",
       " 'Muhammad Nawaz Sharif University Of Agriculture, Multan': 'https://www.eduvision.edu.pk/muhammad-nawaz-sharif-university-of-agriculture-mnsua-multan-ins-1409232907',\n",
       " 'Muhammad Nawaz Sharif University Of Engineering And Technology, Multan': 'https://www.eduvision.edu.pk/muhammad-nawaz-sharif-university-of-engineering-and-technology-mnsuet-multan-ins-1348335005',\n",
       " 'Muhammad Nawazaz Sharif University Of Agriculture, Universal City Code': 'https://www.eduvision.edu.pk/muhammad-nawazaz-sharif-university-of-agriculture-mnsua-universal-city-code-ins-1348325328',\n",
       " 'National College Of Arts, Lahore': 'https://www.eduvision.edu.pk/national-college-of-arts-nca-lahore-ins-22',\n",
       " 'National Defence University, Islamabad': 'https://www.eduvision.edu.pk/national-defence-university-ndu-islamabad-ins-1310738526',\n",
       " 'National Skills University, Islamabad': 'https://www.eduvision.edu.pk/national-skills-university-nsu-islamabad-ins-1629653323',\n",
       " 'National Textile University, Faisalabad': 'https://www.eduvision.edu.pk/national-textile-university-ntu-faisalabad-ins-719',\n",
       " 'National University Of Computer And Emerging Sciences, Islamabad, Islamabad': 'https://www.eduvision.edu.pk/national-university-of-computer-and-emerging-sciences-islamabad-fast-nu-islamabad-ins-64',\n",
       " 'National University Of Modern Languages, Islamabad, Islamabad': 'https://www.eduvision.edu.pk/national-university-of-modern-languages-islamabad-numl-islamabad-ins-23',\n",
       " 'National University Of Science & Technology, Islamabad': 'https://www.eduvision.edu.pk/national-university-of-science-technology-nust-islamabad-ins-24',\n",
       " 'National University Of Technology, Islamabad': 'https://www.eduvision.edu.pk/national-university-of-technology-nut-islamabad-ins-1555333274',\n",
       " 'Ned University Of Engineering & Technology, Karachi': 'https://www.eduvision.edu.pk/ned-university-of-engineering-technology-neduet-karachi-ins-631',\n",
       " 'Nfc Institute Of Engineering & Technology, Multan': 'https://www.eduvision.edu.pk/nfc-institute-of-engineering-technology-nfc-iet-multan-ins-613',\n",
       " 'Nishtar Medical College / Nishter Hospital, Multan': 'https://www.eduvision.edu.pk/nishtar-medical-college-nishter-hospital-nmc-multan-ins-79'}"
      ]
     },
     "execution_count": 6,
     "metadata": {},
     "output_type": "execute_result"
    }
   ],
   "source": [
    "universities = {}\n",
    "for link in sectors_links:\n",
    "    driver.get(link)\n",
    "    all_divs = driver.find_elements(By.CLASS_NAME, \"threecolumn\")\n",
    "    for div in all_divs:\n",
    "        d = div.find_element(By.CLASS_NAME, 'fixText')\n",
    "        a = d.find_element(By.CSS_SELECTOR, 'a')\n",
    "        anchor = a.get_attribute('href')\n",
    "        name = a.text\n",
    "        universities[name] = anchor\n",
    "universities"
   ]
  },
  {
   "cell_type": "code",
   "execution_count": null,
   "id": "d2f53335",
   "metadata": {},
   "outputs": [],
   "source": []
  },
  {
   "cell_type": "markdown",
   "id": "774fa4ea",
   "metadata": {},
   "source": [
    "### Scraping the Indvidual University Informations"
   ]
  },
  {
   "cell_type": "code",
   "execution_count": null,
   "id": "a87630fb",
   "metadata": {},
   "outputs": [
    {
     "name": "stdout",
     "output_type": "stream",
     "text": [
      "{'BS Programs': {'BS - Anaesthesiology': ['', 'NA', '18-02-2023', ''], 'BS - Biotechnology': ['', '105000', '18-02-2023', ''], 'BS - Botany': ['', 'NA', '31-08-2021', ''], 'BBA - Business Administration': ['', '99000', '18-02-2023', ''], 'BS - Cardiology': ['', 'NA', '18-02-2023', ''], 'BE - Civil': ['', '221000', '18-02-2023', ''], 'B.TECH - Civil Technology': ['', '99000', '18-02-2023', ''], 'BS - Computer Science': ['', '102000', '18-02-2023', ''], 'BS - Dental Technology': ['', 'NA', '18-02-2023', ''], 'B.Sc. - Electrical': ['', '198000', '18-02-2023', ''], 'B.TECH - Electrical Technology': ['', '99000', '18-02-2023', ''], 'BS - Electronics': ['', '99000', '18-02-2023', ''], 'B.TECH - Electronics Technology': ['', '99000', '31-08-2021', ''], 'BS - English': ['', 'NA', '18-02-2023', ''], 'BS - Finance & Accounting': ['', 'NA', '18-02-2023', ''], 'BS - Government & Public Policy': ['', 'NA', '30-03-2022', ''], 'BS - International Relations': ['', 'NA', '18-02-2023', ''], 'BS - Mathematics': ['', 'NA', '31-08-2021', ''], 'B.TECH - Mechanical Technology': ['', '99000', '18-02-2023', ''], 'BS - Medical Laboratory Technology': ['', 'NA', '18-02-2023', ''], 'BS - Microbiology': ['', '105000', '18-02-2023', ''], 'PHARM.D - Pharmacy': ['', '184800', '18-02-2023', ''], 'DPT - Physical Therapy': ['', 'NA', '18-02-2023', ''], 'BS - Political Science': ['', 'NA', '18-02-2023', ''], 'BS - Psychology': ['', 'NA', '18-02-2023', ''], 'BS - Public Health': ['', 'NA', '18-02-2023', ''], 'BS - Radiology': ['', '56100', '18-02-2023', ''], 'BS - Software Engineering': ['', '118800', '18-02-2023', ''], 'BS - Surgery': ['', 'NA', '18-02-2023', ''], 'BS - Telecom & Networking': ['', '99000', '31-08-2021', ''], 'BS - Zoology': ['', 'NA', '31-08-2021', '']}}\n",
      "{'BS Programs': {'BS - Anaesthesiology': ['', 'NA', '18-02-2023', ''], 'BS - Biotechnology': ['', '105000', '18-02-2023', ''], 'BS - Botany': ['', 'NA', '31-08-2021', ''], 'BBA - Business Administration': ['', '99000', '18-02-2023', ''], 'BS - Cardiology': ['', 'NA', '18-02-2023', ''], 'BE - Civil': ['', '221000', '18-02-2023', ''], 'B.TECH - Civil Technology': ['', '99000', '18-02-2023', ''], 'BS - Computer Science': ['', '102000', '18-02-2023', ''], 'BS - Dental Technology': ['', 'NA', '18-02-2023', ''], 'B.Sc. - Electrical': ['', '198000', '18-02-2023', ''], 'B.TECH - Electrical Technology': ['', '99000', '18-02-2023', ''], 'BS - Electronics': ['', '99000', '18-02-2023', ''], 'B.TECH - Electronics Technology': ['', '99000', '31-08-2021', ''], 'BS - English': ['', 'NA', '18-02-2023', ''], 'BS - Finance & Accounting': ['', 'NA', '18-02-2023', ''], 'BS - Government & Public Policy': ['', 'NA', '30-03-2022', ''], 'BS - International Relations': ['', 'NA', '18-02-2023', ''], 'BS - Mathematics': ['', 'NA', '31-08-2021', ''], 'B.TECH - Mechanical Technology': ['', '99000', '18-02-2023', ''], 'BS - Medical Laboratory Technology': ['', 'NA', '18-02-2023', ''], 'BS - Microbiology': ['', '105000', '18-02-2023', ''], 'PHARM.D - Pharmacy': ['', '184800', '18-02-2023', ''], 'DPT - Physical Therapy': ['', 'NA', '18-02-2023', ''], 'BS - Political Science': ['', 'NA', '18-02-2023', ''], 'BS - Psychology': ['', 'NA', '18-02-2023', ''], 'BS - Public Health': ['', 'NA', '18-02-2023', ''], 'BS - Radiology': ['', '56100', '18-02-2023', ''], 'BS - Software Engineering': ['', '118800', '18-02-2023', ''], 'BS - Surgery': ['', 'NA', '18-02-2023', ''], 'BS - Telecom & Networking': ['', '99000', '31-08-2021', ''], 'BS - Zoology': ['', 'NA', '31-08-2021', '']}, 'Masters MA MSc': {'': ['', '', '', '']}}\n",
      "{'BS Programs': {'BS - Anaesthesiology': ['', 'NA', '18-02-2023', ''], 'BS - Biotechnology': ['', '105000', '18-02-2023', ''], 'BS - Botany': ['', 'NA', '31-08-2021', ''], 'BBA - Business Administration': ['', '99000', '18-02-2023', ''], 'BS - Cardiology': ['', 'NA', '18-02-2023', ''], 'BE - Civil': ['', '221000', '18-02-2023', ''], 'B.TECH - Civil Technology': ['', '99000', '18-02-2023', ''], 'BS - Computer Science': ['', '102000', '18-02-2023', ''], 'BS - Dental Technology': ['', 'NA', '18-02-2023', ''], 'B.Sc. - Electrical': ['', '198000', '18-02-2023', ''], 'B.TECH - Electrical Technology': ['', '99000', '18-02-2023', ''], 'BS - Electronics': ['', '99000', '18-02-2023', ''], 'B.TECH - Electronics Technology': ['', '99000', '31-08-2021', ''], 'BS - English': ['', 'NA', '18-02-2023', ''], 'BS - Finance & Accounting': ['', 'NA', '18-02-2023', ''], 'BS - Government & Public Policy': ['', 'NA', '30-03-2022', ''], 'BS - International Relations': ['', 'NA', '18-02-2023', ''], 'BS - Mathematics': ['', 'NA', '31-08-2021', ''], 'B.TECH - Mechanical Technology': ['', '99000', '18-02-2023', ''], 'BS - Medical Laboratory Technology': ['', 'NA', '18-02-2023', ''], 'BS - Microbiology': ['', '105000', '18-02-2023', ''], 'PHARM.D - Pharmacy': ['', '184800', '18-02-2023', ''], 'DPT - Physical Therapy': ['', 'NA', '18-02-2023', ''], 'BS - Political Science': ['', 'NA', '18-02-2023', ''], 'BS - Psychology': ['', 'NA', '18-02-2023', ''], 'BS - Public Health': ['', 'NA', '18-02-2023', ''], 'BS - Radiology': ['', '56100', '18-02-2023', ''], 'BS - Software Engineering': ['', '118800', '18-02-2023', ''], 'BS - Surgery': ['', 'NA', '18-02-2023', ''], 'BS - Telecom & Networking': ['', '99000', '31-08-2021', ''], 'BS - Zoology': ['', 'NA', '31-08-2021', '']}, 'Masters MA MSc': {'': ['', '', '', '']}, 'Master MS MPhil': {'': ['', '', '', '']}}\n",
      "{'BS Programs': {'BS - Anaesthesiology': ['', 'NA', '18-02-2023', ''], 'BS - Biotechnology': ['', '105000', '18-02-2023', ''], 'BS - Botany': ['', 'NA', '31-08-2021', ''], 'BBA - Business Administration': ['', '99000', '18-02-2023', ''], 'BS - Cardiology': ['', 'NA', '18-02-2023', ''], 'BE - Civil': ['', '221000', '18-02-2023', ''], 'B.TECH - Civil Technology': ['', '99000', '18-02-2023', ''], 'BS - Computer Science': ['', '102000', '18-02-2023', ''], 'BS - Dental Technology': ['', 'NA', '18-02-2023', ''], 'B.Sc. - Electrical': ['', '198000', '18-02-2023', ''], 'B.TECH - Electrical Technology': ['', '99000', '18-02-2023', ''], 'BS - Electronics': ['', '99000', '18-02-2023', ''], 'B.TECH - Electronics Technology': ['', '99000', '31-08-2021', ''], 'BS - English': ['', 'NA', '18-02-2023', ''], 'BS - Finance & Accounting': ['', 'NA', '18-02-2023', ''], 'BS - Government & Public Policy': ['', 'NA', '30-03-2022', ''], 'BS - International Relations': ['', 'NA', '18-02-2023', ''], 'BS - Mathematics': ['', 'NA', '31-08-2021', ''], 'B.TECH - Mechanical Technology': ['', '99000', '18-02-2023', ''], 'BS - Medical Laboratory Technology': ['', 'NA', '18-02-2023', ''], 'BS - Microbiology': ['', '105000', '18-02-2023', ''], 'PHARM.D - Pharmacy': ['', '184800', '18-02-2023', ''], 'DPT - Physical Therapy': ['', 'NA', '18-02-2023', ''], 'BS - Political Science': ['', 'NA', '18-02-2023', ''], 'BS - Psychology': ['', 'NA', '18-02-2023', ''], 'BS - Public Health': ['', 'NA', '18-02-2023', ''], 'BS - Radiology': ['', '56100', '18-02-2023', ''], 'BS - Software Engineering': ['', '118800', '18-02-2023', ''], 'BS - Surgery': ['', 'NA', '18-02-2023', ''], 'BS - Telecom & Networking': ['', '99000', '31-08-2021', ''], 'BS - Zoology': ['', 'NA', '31-08-2021', '']}, 'Masters MA MSc': {'': ['', '', '', '']}, 'Master MS MPhil': {'': ['', '', '', '']}, 'PhD Programs': {'': ['', '', '', '']}}\n",
      "{'BS Programs': {'AD - Dental Hygienist': ['', 'NA', '28-04-2022', ''], 'B.Sc. - Nursing': ['', 'NA', '28-04-2022', '']}, 'Masters MA MSc': {'': ['', '', '', '']}, 'Master MS MPhil': {'': ['', '', '', '']}, 'PhD Programs': {'': ['', '', '', '']}}\n",
      "{'BS Programs': {'AD - Dental Hygienist': ['', 'NA', '28-04-2022', ''], 'B.Sc. - Nursing': ['', 'NA', '28-04-2022', '']}, 'Masters MA MSc': {'': ['', '', '', '']}, 'Master MS MPhil': {'': ['', '', '', '']}, 'PhD Programs': {'': ['', '', '', '']}}\n",
      "{'BS Programs': {'AD - Dental Hygienist': ['', 'NA', '28-04-2022', ''], 'B.Sc. - Nursing': ['', 'NA', '28-04-2022', '']}, 'Masters MA MSc': {'': ['', '', '', '']}, 'Master MS MPhil': {'': ['', '', '', '']}, 'PhD Programs': {'': ['', '', '', '']}}\n",
      "{'BS Programs': {'AD - Dental Hygienist': ['', 'NA', '28-04-2022', ''], 'B.Sc. - Nursing': ['', 'NA', '28-04-2022', '']}, 'Masters MA MSc': {'': ['', '', '', '']}, 'Master MS MPhil': {'': ['', '', '', '']}, 'PhD Programs': {'': ['', '', '', '']}}\n",
      "{'BS Programs': {'AD - Dental Hygienist': ['', 'NA', '28-04-2022', ''], 'B.Sc. - Nursing': ['', 'NA', '28-04-2022', '']}, 'Masters MA MSc': {'': ['', '', '', '']}, 'Master MS MPhil': {'': ['', '', '', '']}, 'PhD Programs': {'': ['', '', '', '']}, 'PG Dip / Cert': {'': ['', '', '', '']}}\n"
     ]
    },
    {
     "name": "stdout",
     "output_type": "stream",
     "text": [
      "{'BS Programs': {'BS - Accident & Emergency': ['', 'NA', '22-07-2022', ''], 'BS - Anesthesia Technology': ['', 'NA', '18-02-2023', ''], 'BBA (H) - Business Administration': ['', 'NA', '18-02-2023', ''], 'BS - Cardiology': ['', 'NA', '18-02-2023', ''], 'BS - Civil': ['', 'NA', '18-02-2023', ''], 'BS - Civil Technology': ['', 'NA', '18-02-2023', ''], 'B.COM - Commerce': ['', 'NA', '18-02-2023', ''], 'BS - Computer Science': ['', 'NA', '18-02-2023', ''], 'BS - Dental Technology': ['', 'NA', '22-07-2022', ''], 'BS - Diet & Nutritional Sciences': ['', 'NA', '18-02-2023', ''], 'BS - Education': ['', 'NA', '18-02-2023', ''], 'BS - English': ['', 'NA', '18-02-2023', ''], 'BS - Finance & Accounting': ['', 'NA', '18-02-2023', ''], 'BS - Information Technology': ['', 'NA', '18-02-2023', ''], 'BS - Intensive Care Medicine': ['', 'NA', '22-07-2022', ''], 'BS - International Relations': ['', 'NA', '18-02-2023', ''], 'BS - Islamic Studies': ['', 'NA', '18-02-2023', ''], 'BS - Media Sciences': ['', 'NA', '18-02-2023', ''], 'BS - Medical Laboratory Technology': ['', 'NA', '18-02-2023', ''], 'BS - Operation Theater Technology': ['', 'NA', '22-07-2022', ''], 'BS - Optometry': ['', 'NA', '18-02-2023', ''], 'DPT - Physical Therapy': ['', 'NA', '18-02-2023', ''], 'BS - Radiology & Imaging Technology': ['', 'NA', '18-02-2023', ''], 'BS - Real State Management': ['', 'NA', '18-02-2023', ''], 'BS - Urdu': ['', 'NA', '20-02-2022', '']}, 'Masters MA MSc': {'': ['', '', '', '']}, 'Master MS MPhil': {'': ['', '', '', '']}, 'PhD Programs': {'': ['', '', '', '']}, 'PG Dip / Cert': {'': ['', '', '', '']}}\n",
      "{'BS Programs': {'BS - Accident & Emergency': ['', 'NA', '22-07-2022', ''], 'BS - Anesthesia Technology': ['', 'NA', '18-02-2023', ''], 'BBA (H) - Business Administration': ['', 'NA', '18-02-2023', ''], 'BS - Cardiology': ['', 'NA', '18-02-2023', ''], 'BS - Civil': ['', 'NA', '18-02-2023', ''], 'BS - Civil Technology': ['', 'NA', '18-02-2023', ''], 'B.COM - Commerce': ['', 'NA', '18-02-2023', ''], 'BS - Computer Science': ['', 'NA', '18-02-2023', ''], 'BS - Dental Technology': ['', 'NA', '22-07-2022', ''], 'BS - Diet & Nutritional Sciences': ['', 'NA', '18-02-2023', ''], 'BS - Education': ['', 'NA', '18-02-2023', ''], 'BS - English': ['', 'NA', '18-02-2023', ''], 'BS - Finance & Accounting': ['', 'NA', '18-02-2023', ''], 'BS - Information Technology': ['', 'NA', '18-02-2023', ''], 'BS - Intensive Care Medicine': ['', 'NA', '22-07-2022', ''], 'BS - International Relations': ['', 'NA', '18-02-2023', ''], 'BS - Islamic Studies': ['', 'NA', '18-02-2023', ''], 'BS - Media Sciences': ['', 'NA', '18-02-2023', ''], 'BS - Medical Laboratory Technology': ['', 'NA', '18-02-2023', ''], 'BS - Operation Theater Technology': ['', 'NA', '22-07-2022', ''], 'BS - Optometry': ['', 'NA', '18-02-2023', ''], 'DPT - Physical Therapy': ['', 'NA', '18-02-2023', ''], 'BS - Radiology & Imaging Technology': ['', 'NA', '18-02-2023', ''], 'BS - Real State Management': ['', 'NA', '18-02-2023', ''], 'BS - Urdu': ['', 'NA', '20-02-2022', '']}, 'Masters MA MSc': {'': ['', '', '', '']}, 'Master MS MPhil': {'': ['', '', '', '']}, 'PhD Programs': {'': ['', '', '', '']}, 'PG Dip / Cert': {'': ['', '', '', '']}}\n",
      "{'BS Programs': {'BS - Accident & Emergency': ['', 'NA', '22-07-2022', ''], 'BS - Anesthesia Technology': ['', 'NA', '18-02-2023', ''], 'BBA (H) - Business Administration': ['', 'NA', '18-02-2023', ''], 'BS - Cardiology': ['', 'NA', '18-02-2023', ''], 'BS - Civil': ['', 'NA', '18-02-2023', ''], 'BS - Civil Technology': ['', 'NA', '18-02-2023', ''], 'B.COM - Commerce': ['', 'NA', '18-02-2023', ''], 'BS - Computer Science': ['', 'NA', '18-02-2023', ''], 'BS - Dental Technology': ['', 'NA', '22-07-2022', ''], 'BS - Diet & Nutritional Sciences': ['', 'NA', '18-02-2023', ''], 'BS - Education': ['', 'NA', '18-02-2023', ''], 'BS - English': ['', 'NA', '18-02-2023', ''], 'BS - Finance & Accounting': ['', 'NA', '18-02-2023', ''], 'BS - Information Technology': ['', 'NA', '18-02-2023', ''], 'BS - Intensive Care Medicine': ['', 'NA', '22-07-2022', ''], 'BS - International Relations': ['', 'NA', '18-02-2023', ''], 'BS - Islamic Studies': ['', 'NA', '18-02-2023', ''], 'BS - Media Sciences': ['', 'NA', '18-02-2023', ''], 'BS - Medical Laboratory Technology': ['', 'NA', '18-02-2023', ''], 'BS - Operation Theater Technology': ['', 'NA', '22-07-2022', ''], 'BS - Optometry': ['', 'NA', '18-02-2023', ''], 'DPT - Physical Therapy': ['', 'NA', '18-02-2023', ''], 'BS - Radiology & Imaging Technology': ['', 'NA', '18-02-2023', ''], 'BS - Real State Management': ['', 'NA', '18-02-2023', ''], 'BS - Urdu': ['', 'NA', '20-02-2022', '']}, 'Masters MA MSc': {'': ['', '', '', '']}, 'Master MS MPhil': {'': ['', '', '', '']}, 'PhD Programs': {'': ['', '', '', '']}, 'PG Dip / Cert': {'': ['', '', '', '']}}\n",
      "{'BS Programs': {'BS - Accident & Emergency': ['', 'NA', '22-07-2022', ''], 'BS - Anesthesia Technology': ['', 'NA', '18-02-2023', ''], 'BBA (H) - Business Administration': ['', 'NA', '18-02-2023', ''], 'BS - Cardiology': ['', 'NA', '18-02-2023', ''], 'BS - Civil': ['', 'NA', '18-02-2023', ''], 'BS - Civil Technology': ['', 'NA', '18-02-2023', ''], 'B.COM - Commerce': ['', 'NA', '18-02-2023', ''], 'BS - Computer Science': ['', 'NA', '18-02-2023', ''], 'BS - Dental Technology': ['', 'NA', '22-07-2022', ''], 'BS - Diet & Nutritional Sciences': ['', 'NA', '18-02-2023', ''], 'BS - Education': ['', 'NA', '18-02-2023', ''], 'BS - English': ['', 'NA', '18-02-2023', ''], 'BS - Finance & Accounting': ['', 'NA', '18-02-2023', ''], 'BS - Information Technology': ['', 'NA', '18-02-2023', ''], 'BS - Intensive Care Medicine': ['', 'NA', '22-07-2022', ''], 'BS - International Relations': ['', 'NA', '18-02-2023', ''], 'BS - Islamic Studies': ['', 'NA', '18-02-2023', ''], 'BS - Media Sciences': ['', 'NA', '18-02-2023', ''], 'BS - Medical Laboratory Technology': ['', 'NA', '18-02-2023', ''], 'BS - Operation Theater Technology': ['', 'NA', '22-07-2022', ''], 'BS - Optometry': ['', 'NA', '18-02-2023', ''], 'DPT - Physical Therapy': ['', 'NA', '18-02-2023', ''], 'BS - Radiology & Imaging Technology': ['', 'NA', '18-02-2023', ''], 'BS - Real State Management': ['', 'NA', '18-02-2023', ''], 'BS - Urdu': ['', 'NA', '20-02-2022', '']}, 'Masters MA MSc': {'': ['', '', '', '']}, 'Master MS MPhil': {'': ['', '', '', '']}, 'PhD Programs': {'': ['', '', '', '']}, 'PG Dip / Cert': {'': ['', '', '', '']}}\n",
      "{'BS Programs': {'BS - Accident & Emergency': ['', 'NA', '22-07-2022', ''], 'BS - Anesthesia Technology': ['', 'NA', '18-02-2023', ''], 'BBA (H) - Business Administration': ['', 'NA', '18-02-2023', ''], 'BS - Cardiology': ['', 'NA', '18-02-2023', ''], 'BS - Civil': ['', 'NA', '18-02-2023', ''], 'BS - Civil Technology': ['', 'NA', '18-02-2023', ''], 'B.COM - Commerce': ['', 'NA', '18-02-2023', ''], 'BS - Computer Science': ['', 'NA', '18-02-2023', ''], 'BS - Dental Technology': ['', 'NA', '22-07-2022', ''], 'BS - Diet & Nutritional Sciences': ['', 'NA', '18-02-2023', ''], 'BS - Education': ['', 'NA', '18-02-2023', ''], 'BS - English': ['', 'NA', '18-02-2023', ''], 'BS - Finance & Accounting': ['', 'NA', '18-02-2023', ''], 'BS - Information Technology': ['', 'NA', '18-02-2023', ''], 'BS - Intensive Care Medicine': ['', 'NA', '22-07-2022', ''], 'BS - International Relations': ['', 'NA', '18-02-2023', ''], 'BS - Islamic Studies': ['', 'NA', '18-02-2023', ''], 'BS - Media Sciences': ['', 'NA', '18-02-2023', ''], 'BS - Medical Laboratory Technology': ['', 'NA', '18-02-2023', ''], 'BS - Operation Theater Technology': ['', 'NA', '22-07-2022', ''], 'BS - Optometry': ['', 'NA', '18-02-2023', ''], 'DPT - Physical Therapy': ['', 'NA', '18-02-2023', ''], 'BS - Radiology & Imaging Technology': ['', 'NA', '18-02-2023', ''], 'BS - Real State Management': ['', 'NA', '18-02-2023', ''], 'BS - Urdu': ['', 'NA', '20-02-2022', '']}, 'Masters MA MSc': {'': ['', '', '', '']}, 'Master MS MPhil': {'': ['', '', '', '']}, 'PhD Programs': {'': ['', '', '', '']}, 'PG Dip / Cert': {'': ['', '', '', '']}, 'Dip / Cert': {'': ['', '', '', '']}}\n",
      "{'BS Programs': {'BS - Accident & Emergency': ['', 'NA', '22-07-2022', ''], 'BS - Anesthesia Technology': ['', 'NA', '18-02-2023', ''], 'BBA (H) - Business Administration': ['', 'NA', '18-02-2023', ''], 'BS - Cardiology': ['', 'NA', '18-02-2023', ''], 'BS - Civil': ['', 'NA', '18-02-2023', ''], 'BS - Civil Technology': ['', 'NA', '18-02-2023', ''], 'B.COM - Commerce': ['', 'NA', '18-02-2023', ''], 'BS - Computer Science': ['', 'NA', '18-02-2023', ''], 'BS - Dental Technology': ['', 'NA', '22-07-2022', ''], 'BS - Diet & Nutritional Sciences': ['', 'NA', '18-02-2023', ''], 'BS - Education': ['', 'NA', '18-02-2023', ''], 'BS - English': ['', 'NA', '18-02-2023', ''], 'BS - Finance & Accounting': ['', 'NA', '18-02-2023', ''], 'BS - Information Technology': ['', 'NA', '18-02-2023', ''], 'BS - Intensive Care Medicine': ['', 'NA', '22-07-2022', ''], 'BS - International Relations': ['', 'NA', '18-02-2023', ''], 'BS - Islamic Studies': ['', 'NA', '18-02-2023', ''], 'BS - Media Sciences': ['', 'NA', '18-02-2023', ''], 'BS - Medical Laboratory Technology': ['', 'NA', '18-02-2023', ''], 'BS - Operation Theater Technology': ['', 'NA', '22-07-2022', ''], 'BS - Optometry': ['', 'NA', '18-02-2023', ''], 'DPT - Physical Therapy': ['', 'NA', '18-02-2023', ''], 'BS - Radiology & Imaging Technology': ['', 'NA', '18-02-2023', ''], 'BS - Real State Management': ['', 'NA', '18-02-2023', ''], 'BS - Urdu': ['', 'NA', '20-02-2022', '']}, 'Masters MA MSc': {'': ['', '', '', '']}, 'Master MS MPhil': {'': ['', '', '', '']}, 'PhD Programs': {'': ['', '', '', '']}, 'PG Dip / Cert': {'': ['', '', '', '']}, 'Dip / Cert': {'': ['', '', '', '']}, 'Dip / Cert Courses': {'': ['', '', '', '']}}\n"
     ]
    },
    {
     "name": "stdout",
     "output_type": "stream",
     "text": [
      "{'BS Programs': {'BBA - Business Administration': ['', 'NA', '25-02-2017', ''], 'BCS - Computer Science': ['', 'NA', '25-02-2017', ''], 'BS - Economics': ['', 'NA', '25-02-2017', ''], 'BS - Islamic Studies': ['', 'NA', '25-02-2017', '']}, 'Masters MA MSc': {'': ['', '', '', '']}, 'Master MS MPhil': {'': ['', '', '', '']}, 'PhD Programs': {'': ['', '', '', '']}, 'PG Dip / Cert': {'': ['', '', '', '']}, 'Dip / Cert': {'': ['', '', '', '']}, 'Dip / Cert Courses': {'': ['', '', '', '']}}\n",
      "{'BS Programs': {'BBA - Business Administration': ['', 'NA', '25-02-2017', ''], 'BCS - Computer Science': ['', 'NA', '25-02-2017', ''], 'BS - Economics': ['', 'NA', '25-02-2017', ''], 'BS - Islamic Studies': ['', 'NA', '25-02-2017', '']}, 'Masters MA MSc': {'': ['', '', '', '']}, 'Master MS MPhil': {'': ['', '', '', '']}, 'PhD Programs': {'': ['', '', '', '']}, 'PG Dip / Cert': {'': ['', '', '', '']}, 'Dip / Cert': {'': ['', '', '', '']}, 'Dip / Cert Courses': {'': ['', '', '', '']}}\n",
      "{'BS Programs': {'BBA - Business Administration': ['', 'NA', '25-02-2017', ''], 'BCS - Computer Science': ['', 'NA', '25-02-2017', ''], 'BS - Economics': ['', 'NA', '25-02-2017', ''], 'BS - Islamic Studies': ['', 'NA', '25-02-2017', '']}, 'Masters MA MSc': {'': ['', '', '', '']}, 'Master MS MPhil': {'': ['', '', '', '']}, 'PhD Programs': {'': ['', '', '', '']}, 'PG Dip / Cert': {'': ['', '', '', '']}, 'Dip / Cert': {'': ['', '', '', '']}, 'Dip / Cert Courses': {'': ['', '', '', '']}}\n"
     ]
    }
   ],
   "source": [
    "university_degrees = []\n",
    "degree_programs = {}\n",
    "tmp_stored_programs_levels = []\n",
    "for name, link in universities.items():\n",
    "    driver.get(link)\n",
    "    #Label = driver.find_element(By.CLASS_NAME, 'tabs')\n",
    "    #inputs = Label.find_elements(By.CSS_SELECTOR, 'input')\n",
    "    #tabs = Label.find_elements(By.CSS_SELECTOR, 'label')\n",
    "    #for i in range(len(tabs)):\n",
    "        #txt = tabs[i].text\n",
    "        #dict = {txt : None}\n",
    "        #degree_programs.append(dict)\n",
    "        #tmp_stored_programs_levels.append(txt)\n",
    "    label = driver.find_elements(By.CLASS_NAME, 'label')\n",
    "    tbody = driver.find_elements(By.CSS_SELECTOR, 'tbody')\n",
    "    i = 0\n",
    "    for body in tbody:\n",
    "        tr = body.find_elements(By.CSS_SELECTOR, 'tr')\n",
    "        grade_level_data = {}\n",
    "        for row in tr:\n",
    "            td = row.find_elements(By.CSS_SELECTOR, 'td')\n",
    "            indvidual_program_info = []\n",
    "            for data in td:\n",
    "                indvidual_program_info.append(data.text)\n",
    "            grade_level_data[indvidual_program_info[0]] = indvidual_program_info[1:]\n",
    "        if len(label) > 0:\n",
    "            degree_programs[label[i].text] = grade_level_data\n",
    "            i += 1\n",
    "        else:\n",
    "            degree_programs['Programs'] = grade_level_data\n",
    "        print(degree_programs)\n",
    "#     panel = Label.find_elements(By.CLASS_NAME, 'panel')\n",
    "#     j = 0\n",
    "#     for t in panel:\n",
    "#         table = t.find_element(By.CSS_SELECTOR, 'table')\n",
    "#         tbody = table.find_element(By.CLASS_NAME, 'para')\n",
    "#         tr = tbody.find_elements(By.CSS_SELECTOR, 'tr')\n",
    "#         programs_info = {}\n",
    "#         for row in tr:\n",
    "#             td = row.find_elements(By.CSS_SELECTOR, 'td')\n",
    "#             name = td[0].find_element(By.CSS_SELECTOR, 'a').text\n",
    "#             duration = td[1].text\n",
    "#             fee = td[2].text\n",
    "#             #deadline = td[3].find_element(By.CSS_SELECTOR, 'a').text\n",
    "#             deadline = td[3].text\n",
    "#             merit = td[4].text\n",
    "#             programs_info[name] = [duration, fee, deadline, merit]\n",
    "#         degree_programs[j][tmp_stored_programs_levels[j]] = programs_info\n",
    "#         j += 1\n",
    "#         university_degrees.append(degree_programs)\n",
    "# print(university_degrees)"
   ]
  }
 ],
 "metadata": {
  "kernelspec": {
   "display_name": "Python 3 (ipykernel)",
   "language": "python",
   "name": "python3"
  },
  "language_info": {
   "codemirror_mode": {
    "name": "ipython",
    "version": 3
   },
   "file_extension": ".py",
   "mimetype": "text/x-python",
   "name": "python",
   "nbconvert_exporter": "python",
   "pygments_lexer": "ipython3",
   "version": "3.10.6"
  }
 },
 "nbformat": 4,
 "nbformat_minor": 5
}
