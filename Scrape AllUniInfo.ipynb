{
 "cells": [
  {
   "cell_type": "markdown",
   "id": "33315d40",
   "metadata": {},
   "source": [
    "# Import Necessatry Modules"
   ]
  },
  {
   "cell_type": "code",
   "execution_count": null,
   "id": "097232e1",
   "metadata": {},
   "outputs": [],
   "source": [
    "from selenium.webdriver import Chrome\n",
    "from selenium.webdriver.chrome.service import Service\n",
    "from selenium.webdriver.common.by import By\n",
    "from selenium.common.exceptions import NoSuchElementException\n",
    "import pandas as pd"
   ]
  },
  {
   "cell_type": "markdown",
   "id": "8116802c",
   "metadata": {},
   "source": [
    "# Loading WebDriver"
   ]
  },
  {
   "cell_type": "code",
   "execution_count": null,
   "id": "c7192830",
   "metadata": {},
   "outputs": [],
   "source": [
    "ser = Service('/home/irfan/Downloads/chromedriver_linux64')"
   ]
  },
  {
   "cell_type": "markdown",
   "id": "a8a8368f",
   "metadata": {},
   "source": [
    "# Inititalizing Driver"
   ]
  },
  {
   "cell_type": "code",
   "execution_count": null,
   "id": "98369a36",
   "metadata": {},
   "outputs": [],
   "source": [
    "driver = Chrome(service=ser)\n",
    "driver.maximize_window()"
   ]
  },
  {
   "cell_type": "markdown",
   "id": "a0242630",
   "metadata": {},
   "source": [
    "## Reditrecting to https://www.alluniversity.info/pakistan/ WebSite"
   ]
  },
  {
   "cell_type": "code",
   "execution_count": null,
   "id": "6de443e7",
   "metadata": {},
   "outputs": [],
   "source": [
    "driver.get('https://www.alluniversity.info/pakistan/')"
   ]
  },
  {
   "cell_type": "markdown",
   "id": "b5d82947",
   "metadata": {},
   "source": [
    "## Scrape the Name + URL of All Website leading top 10 Universities"
   ]
  },
  {
   "cell_type": "code",
   "execution_count": null,
   "id": "e1097e53",
   "metadata": {},
   "outputs": [],
   "source": [
    "top10 = {}\n",
    "universities = {}\n",
    "\n",
    "\n",
    "def loop_over_data(li, d, index=0):\n",
    "    for link in li:\n",
    "        anchor = link.find_element(By.TAG_NAME, 'a')\n",
    "        anc = anchor.get_attribute('href')\n",
    "        name = link.text[index:]\n",
    "        if anc not in top10:\n",
    "            d[name] = anc\n",
    "\n",
    "\n",
    "def scrape_date():\n",
    "    try:\n",
    "        for i in range(3):\n",
    "            ul = driver.find_elements(By.TAG_NAME, 'ul')\n",
    "            if i == 0:\n",
    "                top = ul[0].find_elements(By.TAG_NAME, 'li')\n",
    "                loop_over_data(top, top10, 3)\n",
    "                uni = ul[i+1].find_elements(By.TAG_NAME, 'li')\n",
    "            else:\n",
    "                uni = ul[0].find_elements(By.TAG_NAME, 'li')\n",
    "            loop_over_data(uni, universities)\n",
    "            next_page_link = driver.find_element(By.XPATH, \"//a[@title='Next Page']\")\n",
    "            next_page_link.click()\n",
    "    except NoSuchElementException:\n",
    "        return\n",
    "\n",
    "scrape_date()"
   ]
  },
  {
   "cell_type": "markdown",
   "id": "57bdd0cd",
   "metadata": {},
   "source": [
    "## Scrape Required Information of Indvidual University"
   ]
  },
  {
   "cell_type": "code",
   "execution_count": null,
   "id": "91b5d98f",
   "metadata": {},
   "outputs": [],
   "source": [
    "top = {'Ranking': [], 'Year Established': [], 'Address': [], 'Phone': [], 'Fax': [], 'Website': []}\n",
    "other = {'Year Established': [], 'Address': [], 'Phone': [], 'Fax': [], 'Website': []}\n",
    "def loop_over_uni(lst, dict):\n",
    "    for link in lst:\n",
    "        driver.get(link)\n",
    "        tables = driver.find_elements(By.TAG_NAME, 'table')\n",
    "        for table in tables:\n",
    "            tr = table.find_elements(By.TAG_NAME, 'tr')\n",
    "            for row in tr:\n",
    "                th = row.find_element(By.TAG_NAME, 'th').text\n",
    "                try:\n",
    "                    anchor = row.find_element(By.TAG_NAME, 'a')\n",
    "                    dict[th].append(anchor.get_attribute('href'))\n",
    "                except:\n",
    "                    td = row.find_element(By.TAG_NAME, 'td')\n",
    "                    if len(dict) == 10:\n",
    "                        span = td.find_element(By.TAG_NAME, 'span')\n",
    "                        dict[th].append(span.text)\n",
    "                    else:\n",
    "                        if th in dict:\n",
    "                            dict[th].append(td.text)\n",
    "loop_over_uni(list(top10.values()), top)\n",
    "loop_over_uni(list(universities.values()), other)"
   ]
  }
 ],
 "metadata": {
  "kernelspec": {
   "display_name": "Python 3 (ipykernel)",
   "language": "python",
   "name": "python3"
  },
  "language_info": {
   "codemirror_mode": {
    "name": "ipython",
    "version": 3
   },
   "file_extension": ".py",
   "mimetype": "text/x-python",
   "name": "python",
   "nbconvert_exporter": "python",
   "pygments_lexer": "ipython3",
   "version": "3.10.6"
  }
 },
 "nbformat": 4,
 "nbformat_minor": 5
}
