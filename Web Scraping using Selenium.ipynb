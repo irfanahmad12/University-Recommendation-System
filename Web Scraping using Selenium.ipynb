{
 "cells": [
  {
   "cell_type": "markdown",
   "id": "72b3e422",
   "metadata": {},
   "source": [
    "# Import Necessary Modules"
   ]
  },
  {
   "cell_type": "code",
   "execution_count": 81,
   "id": "ca220c22",
   "metadata": {},
   "outputs": [],
   "source": [
    "from bs4 import BeautifulSoup\n",
    "from selenium import webdriver\n",
    "from selenium.webdriver import Chrome\n",
    "from selenium.webdriver.chrome.service import Service\n",
    "from selenium.webdriver.chrome.options import Options\n",
    "from selenium.webdriver.common.by import By"
   ]
  },
  {
   "cell_type": "markdown",
   "id": "78ea2948",
   "metadata": {},
   "source": [
    "## Loading Webdriver for selenium"
   ]
  },
  {
   "cell_type": "code",
   "execution_count": 58,
   "id": "9efb0023",
   "metadata": {},
   "outputs": [],
   "source": [
    "ser = Service('/home/irfan/Downloads/chromedriver_linux64')"
   ]
  },
  {
   "cell_type": "markdown",
   "id": "d0d1c69f",
   "metadata": {},
   "source": [
    "## Initializing web driver"
   ]
  },
  {
   "cell_type": "code",
   "execution_count": 59,
   "id": "0f5f7a57",
   "metadata": {},
   "outputs": [],
   "source": [
    "myoptions = Options()\n",
    "driver = Chrome(service=ser, options=myoptions)"
   ]
  },
  {
   "cell_type": "markdown",
   "id": "d63ec412",
   "metadata": {},
   "source": [
    "## Opening the browser or redirecting to the link using get method"
   ]
  },
  {
   "cell_type": "code",
   "execution_count": 79,
   "id": "42d72d3e",
   "metadata": {},
   "outputs": [],
   "source": [
    "driver.get('https://www.eduvision.edu.pk/')"
   ]
  },
  {
   "cell_type": "markdown",
   "id": "cb0894c1",
   "metadata": {},
   "source": [
    "### Using Selenium Selectors, find all the anchor tags having class = 'list_hlaf_block' <br> and extract Universities name nested in anchors tags. <br>Scrape the home page and got anchor tags of all sectors "
   ]
  },
  {
   "cell_type": "code",
   "execution_count": 78,
   "id": "733d041a",
   "metadata": {},
   "outputs": [],
   "source": [
    "sectors_name = []\n",
    "sectors_links = []\n",
    "anchors = driver.find_elements(By.CLASS_NAME, \"list_hlaf_block\")\n",
    "anchors = anchors[-1:-7:-1]\n",
    "for a in anchors:\n",
    "    b = a.find_element(By.CSS_SELECTOR, 'b')\n",
    "    sectors_name.append(b.text)\n",
    "for a in anchors:\n",
    "    sectors_links.append(a.get_attribute('href'))"
   ]
  },
  {
   "cell_type": "markdown",
   "id": "6e88b4a4",
   "metadata": {},
   "source": [
    "### Scraping the links and names of universities of all Sectors"
   ]
  },
  {
   "cell_type": "code",
   "execution_count": 80,
   "id": "e937a7bf",
   "metadata": {},
   "outputs": [
    {
     "ename": "TimeoutException",
     "evalue": "Message: timeout: Timed out receiving message from renderer: -1147.352\n  (Session info: chrome=109.0.5414.119)\nStacktrace:\n#0 0x5607e0ff7303 <unknown>\n#1 0x5607e0dcbd37 <unknown>\n#2 0x5607e0db6549 <unknown>\n#3 0x5607e0db6285 <unknown>\n#4 0x5607e0db4c77 <unknown>\n#5 0x5607e0db5408 <unknown>\n#6 0x5607e0dc267f <unknown>\n#7 0x5607e0dc32d2 <unknown>\n#8 0x5607e0dd3fd0 <unknown>\n#9 0x5607e0dd834b <unknown>\n#10 0x5607e0db59c5 <unknown>\n#11 0x5607e0dd3d7f <unknown>\n#12 0x5607e0e40aa0 <unknown>\n#13 0x5607e0e28753 <unknown>\n#14 0x5607e0dfba14 <unknown>\n#15 0x5607e0dfcb7e <unknown>\n#16 0x5607e104632e <unknown>\n#17 0x5607e1049c0e <unknown>\n#18 0x5607e102c610 <unknown>\n#19 0x5607e104ac23 <unknown>\n#20 0x5607e101e545 <unknown>\n#21 0x5607e106b6a8 <unknown>\n#22 0x5607e106b836 <unknown>\n#23 0x5607e1086d13 <unknown>\n#24 0x7f106e042b43 <unknown>\n",
     "output_type": "error",
     "traceback": [
      "\u001b[0;31m---------------------------------------------------------------------------\u001b[0m",
      "\u001b[0;31mTimeoutException\u001b[0m                          Traceback (most recent call last)",
      "\u001b[0;32m/tmp/ipykernel_43254/169378498.py\u001b[0m in \u001b[0;36m<module>\u001b[0;34m\u001b[0m\n\u001b[1;32m      3\u001b[0m \u001b[0muni_name\u001b[0m \u001b[0;34m=\u001b[0m \u001b[0;34m[\u001b[0m\u001b[0;34m]\u001b[0m\u001b[0;34m\u001b[0m\u001b[0;34m\u001b[0m\u001b[0m\n\u001b[1;32m      4\u001b[0m \u001b[0;32mfor\u001b[0m \u001b[0mlink\u001b[0m \u001b[0;32min\u001b[0m \u001b[0msectors_links\u001b[0m\u001b[0;34m:\u001b[0m\u001b[0;34m\u001b[0m\u001b[0;34m\u001b[0m\u001b[0m\n\u001b[0;32m----> 5\u001b[0;31m     \u001b[0mdriver\u001b[0m\u001b[0;34m.\u001b[0m\u001b[0mget\u001b[0m\u001b[0;34m(\u001b[0m\u001b[0mlink\u001b[0m\u001b[0;34m)\u001b[0m\u001b[0;34m\u001b[0m\u001b[0;34m\u001b[0m\u001b[0m\n\u001b[0m\u001b[1;32m      6\u001b[0m     \u001b[0muniversities\u001b[0m\u001b[0;34m.\u001b[0m\u001b[0mappend\u001b[0m\u001b[0;34m(\u001b[0m\u001b[0mdriver\u001b[0m\u001b[0;34m.\u001b[0m\u001b[0mfind_elements\u001b[0m\u001b[0;34m(\u001b[0m\u001b[0mBy\u001b[0m\u001b[0;34m.\u001b[0m\u001b[0mCLASS_NAME\u001b[0m\u001b[0;34m,\u001b[0m \u001b[0;34m\"fixText\"\u001b[0m\u001b[0;34m)\u001b[0m\u001b[0;34m)\u001b[0m\u001b[0;34m\u001b[0m\u001b[0;34m\u001b[0m\u001b[0m\n\u001b[1;32m      7\u001b[0m \u001b[0;32mfor\u001b[0m \u001b[0muni\u001b[0m \u001b[0;32min\u001b[0m \u001b[0mlinks\u001b[0m\u001b[0;34m:\u001b[0m\u001b[0;34m\u001b[0m\u001b[0;34m\u001b[0m\u001b[0m\n",
      "\u001b[0;32m~/.local/lib/python3.10/site-packages/selenium/webdriver/remote/webdriver.py\u001b[0m in \u001b[0;36mget\u001b[0;34m(self, url)\u001b[0m\n\u001b[1;32m    447\u001b[0m     \u001b[0;32mdef\u001b[0m \u001b[0mget\u001b[0m\u001b[0;34m(\u001b[0m\u001b[0mself\u001b[0m\u001b[0;34m,\u001b[0m \u001b[0murl\u001b[0m\u001b[0;34m:\u001b[0m \u001b[0mstr\u001b[0m\u001b[0;34m)\u001b[0m \u001b[0;34m->\u001b[0m \u001b[0;32mNone\u001b[0m\u001b[0;34m:\u001b[0m\u001b[0;34m\u001b[0m\u001b[0;34m\u001b[0m\u001b[0m\n\u001b[1;32m    448\u001b[0m         \u001b[0;34m\"\"\"Loads a web page in the current browser session.\"\"\"\u001b[0m\u001b[0;34m\u001b[0m\u001b[0;34m\u001b[0m\u001b[0m\n\u001b[0;32m--> 449\u001b[0;31m         \u001b[0mself\u001b[0m\u001b[0;34m.\u001b[0m\u001b[0mexecute\u001b[0m\u001b[0;34m(\u001b[0m\u001b[0mCommand\u001b[0m\u001b[0;34m.\u001b[0m\u001b[0mGET\u001b[0m\u001b[0;34m,\u001b[0m \u001b[0;34m{\u001b[0m\u001b[0;34m\"url\"\u001b[0m\u001b[0;34m:\u001b[0m \u001b[0murl\u001b[0m\u001b[0;34m}\u001b[0m\u001b[0;34m)\u001b[0m\u001b[0;34m\u001b[0m\u001b[0;34m\u001b[0m\u001b[0m\n\u001b[0m\u001b[1;32m    450\u001b[0m \u001b[0;34m\u001b[0m\u001b[0m\n\u001b[1;32m    451\u001b[0m     \u001b[0;34m@\u001b[0m\u001b[0mproperty\u001b[0m\u001b[0;34m\u001b[0m\u001b[0;34m\u001b[0m\u001b[0m\n",
      "\u001b[0;32m~/.local/lib/python3.10/site-packages/selenium/webdriver/remote/webdriver.py\u001b[0m in \u001b[0;36mexecute\u001b[0;34m(self, driver_command, params)\u001b[0m\n\u001b[1;32m    438\u001b[0m         \u001b[0mresponse\u001b[0m \u001b[0;34m=\u001b[0m \u001b[0mself\u001b[0m\u001b[0;34m.\u001b[0m\u001b[0mcommand_executor\u001b[0m\u001b[0;34m.\u001b[0m\u001b[0mexecute\u001b[0m\u001b[0;34m(\u001b[0m\u001b[0mdriver_command\u001b[0m\u001b[0;34m,\u001b[0m \u001b[0mparams\u001b[0m\u001b[0;34m)\u001b[0m\u001b[0;34m\u001b[0m\u001b[0;34m\u001b[0m\u001b[0m\n\u001b[1;32m    439\u001b[0m         \u001b[0;32mif\u001b[0m \u001b[0mresponse\u001b[0m\u001b[0;34m:\u001b[0m\u001b[0;34m\u001b[0m\u001b[0;34m\u001b[0m\u001b[0m\n\u001b[0;32m--> 440\u001b[0;31m             \u001b[0mself\u001b[0m\u001b[0;34m.\u001b[0m\u001b[0merror_handler\u001b[0m\u001b[0;34m.\u001b[0m\u001b[0mcheck_response\u001b[0m\u001b[0;34m(\u001b[0m\u001b[0mresponse\u001b[0m\u001b[0;34m)\u001b[0m\u001b[0;34m\u001b[0m\u001b[0;34m\u001b[0m\u001b[0m\n\u001b[0m\u001b[1;32m    441\u001b[0m             \u001b[0mresponse\u001b[0m\u001b[0;34m[\u001b[0m\u001b[0;34m\"value\"\u001b[0m\u001b[0;34m]\u001b[0m \u001b[0;34m=\u001b[0m \u001b[0mself\u001b[0m\u001b[0;34m.\u001b[0m\u001b[0m_unwrap_value\u001b[0m\u001b[0;34m(\u001b[0m\u001b[0mresponse\u001b[0m\u001b[0;34m.\u001b[0m\u001b[0mget\u001b[0m\u001b[0;34m(\u001b[0m\u001b[0;34m\"value\"\u001b[0m\u001b[0;34m,\u001b[0m \u001b[0;32mNone\u001b[0m\u001b[0;34m)\u001b[0m\u001b[0;34m)\u001b[0m\u001b[0;34m\u001b[0m\u001b[0;34m\u001b[0m\u001b[0m\n\u001b[1;32m    442\u001b[0m             \u001b[0;32mreturn\u001b[0m \u001b[0mresponse\u001b[0m\u001b[0;34m\u001b[0m\u001b[0;34m\u001b[0m\u001b[0m\n",
      "\u001b[0;32m~/.local/lib/python3.10/site-packages/selenium/webdriver/remote/errorhandler.py\u001b[0m in \u001b[0;36mcheck_response\u001b[0;34m(self, response)\u001b[0m\n\u001b[1;32m    243\u001b[0m                 \u001b[0malert_text\u001b[0m \u001b[0;34m=\u001b[0m \u001b[0mvalue\u001b[0m\u001b[0;34m[\u001b[0m\u001b[0;34m\"alert\"\u001b[0m\u001b[0;34m]\u001b[0m\u001b[0;34m.\u001b[0m\u001b[0mget\u001b[0m\u001b[0;34m(\u001b[0m\u001b[0;34m\"text\"\u001b[0m\u001b[0;34m)\u001b[0m\u001b[0;34m\u001b[0m\u001b[0;34m\u001b[0m\u001b[0m\n\u001b[1;32m    244\u001b[0m             \u001b[0;32mraise\u001b[0m \u001b[0mexception_class\u001b[0m\u001b[0;34m(\u001b[0m\u001b[0mmessage\u001b[0m\u001b[0;34m,\u001b[0m \u001b[0mscreen\u001b[0m\u001b[0;34m,\u001b[0m \u001b[0mstacktrace\u001b[0m\u001b[0;34m,\u001b[0m \u001b[0malert_text\u001b[0m\u001b[0;34m)\u001b[0m  \u001b[0;31m# type: ignore[call-arg]  # mypy is not smart enough here\u001b[0m\u001b[0;34m\u001b[0m\u001b[0;34m\u001b[0m\u001b[0m\n\u001b[0;32m--> 245\u001b[0;31m         \u001b[0;32mraise\u001b[0m \u001b[0mexception_class\u001b[0m\u001b[0;34m(\u001b[0m\u001b[0mmessage\u001b[0m\u001b[0;34m,\u001b[0m \u001b[0mscreen\u001b[0m\u001b[0;34m,\u001b[0m \u001b[0mstacktrace\u001b[0m\u001b[0;34m)\u001b[0m\u001b[0;34m\u001b[0m\u001b[0;34m\u001b[0m\u001b[0m\n\u001b[0m",
      "\u001b[0;31mTimeoutException\u001b[0m: Message: timeout: Timed out receiving message from renderer: -1147.352\n  (Session info: chrome=109.0.5414.119)\nStacktrace:\n#0 0x5607e0ff7303 <unknown>\n#1 0x5607e0dcbd37 <unknown>\n#2 0x5607e0db6549 <unknown>\n#3 0x5607e0db6285 <unknown>\n#4 0x5607e0db4c77 <unknown>\n#5 0x5607e0db5408 <unknown>\n#6 0x5607e0dc267f <unknown>\n#7 0x5607e0dc32d2 <unknown>\n#8 0x5607e0dd3fd0 <unknown>\n#9 0x5607e0dd834b <unknown>\n#10 0x5607e0db59c5 <unknown>\n#11 0x5607e0dd3d7f <unknown>\n#12 0x5607e0e40aa0 <unknown>\n#13 0x5607e0e28753 <unknown>\n#14 0x5607e0dfba14 <unknown>\n#15 0x5607e0dfcb7e <unknown>\n#16 0x5607e104632e <unknown>\n#17 0x5607e1049c0e <unknown>\n#18 0x5607e102c610 <unknown>\n#19 0x5607e104ac23 <unknown>\n#20 0x5607e101e545 <unknown>\n#21 0x5607e106b6a8 <unknown>\n#22 0x5607e106b836 <unknown>\n#23 0x5607e1086d13 <unknown>\n#24 0x7f106e042b43 <unknown>\n"
     ]
    }
   ],
   "source": [
    "links = []\n",
    "universities = []\n",
    "uni_name = []\n",
    "for link in sectors_links:\n",
    "    driver.get(link)\n",
    "    universities.append(driver.find_elements(By.CLASS_NAME, \"fixText\"))\n",
    "for uni in links:\n",
    "    link = uni.get_attribute('href')\n",
    "    universities.append(link)\n",
    "    uni_name.append(link.text)\n",
    "universities\n",
    "uni_name"
   ]
  },
  {
   "cell_type": "markdown",
   "id": "774fa4ea",
   "metadata": {},
   "source": [
    "### Scraping the Indvidual University Informations"
   ]
  },
  {
   "cell_type": "code",
   "execution_count": null,
   "id": "a87630fb",
   "metadata": {},
   "outputs": [],
   "source": [
    "degree_programs = []\n",
    "for link in universities:\n",
    "    driver.get(link)\n",
    "    table = driver.find_element(By.CSS_SELECTOR, 'table')\n",
    "    tbody = table.find_element(By.CSS_SELECTOR, 'tbody')\n",
    "    tr = tbody.find_elements(By.CSS_SELECTOR, 'tr')\n",
    "    for row in tr:\n",
    "        dict = {}\n",
    "        td = row.find_elements(By.CSS_SELECTOR, 'td')\n",
    "        program = td[0].find_element(By.CSS_SELECTOR, 'a')\n",
    "        p_link = program.get_attribut('href')\n",
    "        p_name = program.text\n",
    "        dict['Program Name'] = p_name\n",
    "        dict['Program Link'] = p_link\n",
    "        dict['Duration'] = td[1].text\n",
    "        dict['fee'] = td[2].text\n",
    "        d = td[3].find_element(By.CSS_SELECTOR, 'a')\n",
    "        dict['Deadline'] = d.text\n",
    "        dict['Merit'] = td[4].text\n",
    "        degree_programs.append(dict)"
   ]
  }
 ],
 "metadata": {
  "kernelspec": {
   "display_name": "Python 3 (ipykernel)",
   "language": "python",
   "name": "python3"
  },
  "language_info": {
   "codemirror_mode": {
    "name": "ipython",
    "version": 3
   },
   "file_extension": ".py",
   "mimetype": "text/x-python",
   "name": "python",
   "nbconvert_exporter": "python",
   "pygments_lexer": "ipython3",
   "version": "3.10.6"
  }
 },
 "nbformat": 4,
 "nbformat_minor": 5
}
