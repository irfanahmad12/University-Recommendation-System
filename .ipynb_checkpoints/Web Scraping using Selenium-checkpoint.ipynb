{
 "cells": [
  {
   "cell_type": "markdown",
   "id": "72b3e422",
   "metadata": {},
   "source": [
    "# Import Necessary Modules"
   ]
  },
  {
   "cell_type": "code",
   "execution_count": null,
   "id": "ca220c22",
   "metadata": {},
   "outputs": [],
   "source": [
    "from bs4 import BeautifulSoup\n",
    "from selenium import webdriver\n",
    "from selenium.webdriver import Chrome\n",
    "from selenium.webdriver.chrome.service import Service\n",
    "from selenium.webdriver.chrome.options import Options\n",
    "from selenium.webdriver.common.by import By"
   ]
  },
  {
   "cell_type": "markdown",
   "id": "78ea2948",
   "metadata": {},
   "source": [
    "## Loading Webdriver for selenium"
   ]
  },
  {
   "cell_type": "code",
   "execution_count": null,
   "id": "9efb0023",
   "metadata": {},
   "outputs": [],
   "source": [
    "ser = Service('/home/irfan/Downloads/chromedriver_linux64')"
   ]
  },
  {
   "cell_type": "markdown",
   "id": "d0d1c69f",
   "metadata": {},
   "source": [
    "## Initializing web driver"
   ]
  },
  {
   "cell_type": "code",
   "execution_count": null,
   "id": "0f5f7a57",
   "metadata": {},
   "outputs": [],
   "source": [
    "myoptions = Options()\n",
    "driver = Chrome(service=ser, options=myoptions)"
   ]
  },
  {
   "cell_type": "markdown",
   "id": "d63ec412",
   "metadata": {},
   "source": [
    "## Opening the browser or redirecting to the link using get method"
   ]
  },
  {
   "cell_type": "code",
   "execution_count": null,
   "id": "42d72d3e",
   "metadata": {},
   "outputs": [],
   "source": [
    "driver.get('https://www.eduvision.edu.pk/')"
   ]
  },
  {
   "cell_type": "markdown",
   "id": "cb0894c1",
   "metadata": {},
   "source": [
    "### Using Selenium Selectors, find all the anchor tags having class = 'list_hlaf_block' <br> and extract Universities name nested in anchors tags. <br>Scrape the home page and got anchor tags of all sectors "
   ]
  },
  {
   "cell_type": "code",
   "execution_count": null,
   "id": "733d041a",
   "metadata": {},
   "outputs": [],
   "source": [
    "sectors_name = []\n",
    "sectors_links = []\n",
    "anchors = driver.find_elements(By.CLASS_NAME, \"list_hlaf_block\")\n",
    "anchors = anchors[-1:-7:-1]\n",
    "for a in anchors:\n",
    "    b = a.find_element(By.CSS_SELECTOR, 'b')\n",
    "    sectors_name.append(b.text)\n",
    "for a in anchors:\n",
    "    sectors_links.append(a.get_attribute('href'))"
   ]
  },
  {
   "cell_type": "markdown",
   "id": "6e88b4a4",
   "metadata": {},
   "source": [
    "### Scraping the links and names of universities of all Sectors"
   ]
  },
  {
   "cell_type": "code",
   "execution_count": null,
   "id": "e937a7bf",
   "metadata": {},
   "outputs": [],
   "source": [
    "links = []\n",
    "universities = []\n",
    "uni_name = []\n",
    "for link in sectors_links:\n",
    "    driver.get(link)\n",
    "    universities.append(driver.find_elements(By.CLASS_NAME, \"fixText\"))\n",
    "for uni in links:\n",
    "    link = uni.get_attribute('href')\n",
    "    universities.append(link)\n",
    "    uni_name.append(link.text)\n",
    "universities\n",
    "uni_name"
   ]
  },
  {
   "cell_type": "markdown",
   "id": "774fa4ea",
   "metadata": {},
   "source": [
    "### Scraping the Indvidual University Informations"
   ]
  },
  {
   "cell_type": "code",
   "execution_count": null,
   "id": "a87630fb",
   "metadata": {},
   "outputs": [],
   "source": [
    "degree_programs = []\n",
    "for link in universities:\n",
    "    driver.get(link)\n",
    "    table = driver.find_element(By.CSS_SELECTOR, 'table')\n",
    "    tbody = table.find_element(By.CSS_SELECTOR, 'tbody')\n",
    "    tr = tbody.find_elements(By.CSS_SELECTOR, 'tr')\n",
    "    for row in tr:\n",
    "        dict = {}\n",
    "        td = row.find_elements(By.CSS_SELECTOR, 'td')\n",
    "        program = td[0].find_element(By.CSS_SELECTOR, 'a')\n",
    "        p_link = program.get_attribut('href')\n",
    "        p_name = program.text\n",
    "        dict['Program Name'] = p_name\n",
    "        dict['Program Link'] = p_link\n",
    "        dict['Duration'] = td[1].text\n",
    "        dict['fee'] = td[2].text\n",
    "        d = td[3].find_element(By.CSS_SELECTOR, 'a')\n",
    "        dict['Deadline'] = d.text\n",
    "        dict['Merit'] = td[4].text\n",
    "        degree_programs.append(dict)"
   ]
  }
 ],
 "metadata": {
  "kernelspec": {
   "display_name": "Python 3 (ipykernel)",
   "language": "python",
   "name": "python3"
  },
  "language_info": {
   "codemirror_mode": {
    "name": "ipython",
    "version": 3
   },
   "file_extension": ".py",
   "mimetype": "text/x-python",
   "name": "python",
   "nbconvert_exporter": "python",
   "pygments_lexer": "ipython3",
   "version": "3.10.6"
  }
 },
 "nbformat": 4,
 "nbformat_minor": 5
}
