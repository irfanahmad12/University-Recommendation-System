{
 "cells": [
  {
   "cell_type": "markdown",
   "id": "72b3e422",
   "metadata": {},
   "source": [
    "# Import Necessary Modules"
   ]
  },
  {
   "cell_type": "code",
   "execution_count": null,
   "id": "ca220c22",
   "metadata": {},
   "outputs": [],
   "source": [
    "from selenium.webdriver import Chrome\n",
    "from selenium.webdriver.chrome.service import Service\n",
    "from selenium.webdriver.chrome.options import Options\n",
    "from selenium.webdriver.common.by import By"
   ]
  },
  {
   "cell_type": "markdown",
   "id": "78ea2948",
   "metadata": {},
   "source": [
    "## Loading Webdriver for selenium"
   ]
  },
  {
   "cell_type": "code",
   "execution_count": null,
   "id": "9efb0023",
   "metadata": {},
   "outputs": [],
   "source": [
    "ser = Service('/home/irfan/Downloads/chromedriver_linux64')"
   ]
  },
  {
   "cell_type": "markdown",
   "id": "d0d1c69f",
   "metadata": {},
   "source": [
    "## Initializing web driver"
   ]
  },
  {
   "cell_type": "code",
   "execution_count": null,
   "id": "0f5f7a57",
   "metadata": {},
   "outputs": [],
   "source": [
    "myoptions = Options()\n",
    "driver = Chrome(service=ser, options=myoptions)"
   ]
  },
  {
   "cell_type": "markdown",
   "id": "d63ec412",
   "metadata": {},
   "source": [
    "## Opening the browser or redirecting to the link using get method"
   ]
  },
  {
   "cell_type": "code",
   "execution_count": null,
   "id": "42d72d3e",
   "metadata": {},
   "outputs": [],
   "source": [
    "driver.get('https://www.eduvision.edu.pk/')"
   ]
  },
  {
   "cell_type": "markdown",
   "id": "cb0894c1",
   "metadata": {},
   "source": [
    "### Using Selenium Selectors, find all the anchor tags having class = 'list_hlaf_block' <br> and extract Universities name nested in anchors tags. <br>Scrape the home page and got anchor tags of all sectors "
   ]
  },
  {
   "cell_type": "code",
   "execution_count": null,
   "id": "733d041a",
   "metadata": {},
   "outputs": [],
   "source": [
    "sectors_name = []\n",
    "sectors_links = []\n",
    "anchors = driver.find_elements(By.CLASS_NAME, \"list_hlaf_block\")\n",
    "anchors = anchors[-5:-7:-1]\n",
    "for a in anchors:\n",
    "    b = a.find_element(By.CSS_SELECTOR, 'b')\n",
    "    sectors_name.append(b.text)\n",
    "for a in anchors:\n",
    "    sectors_links.append(a.get_attribute('href'))\n",
    "print(sectors_links)\n",
    "print(sectors_name)"
   ]
  },
  {
   "cell_type": "markdown",
   "id": "6e88b4a4",
   "metadata": {},
   "source": [
    "### Scraping the links and names of universities of all Sectors"
   ]
  },
  {
   "cell_type": "code",
   "execution_count": null,
   "id": "e937a7bf",
   "metadata": {},
   "outputs": [],
   "source": [
    "universities = {}\n",
    "for link in sectors_links:\n",
    "    driver.get(link)\n",
    "    all_divs = driver.find_elements(By.CLASS_NAME, \"threecolumn\")\n",
    "    for div in all_divs:\n",
    "        d = div.find_element(By.CLASS_NAME, 'fixText')\n",
    "        a = d.find_element(By.CSS_SELECTOR, 'a')\n",
    "        anchor = a.get_attribute('href')\n",
    "        name = a.text\n",
    "        universities[name] = anchor\n",
    "universities"
   ]
  },
  {
   "cell_type": "code",
   "execution_count": null,
   "id": "8c24608a",
   "metadata": {},
   "outputs": [],
   "source": []
  },
  {
   "cell_type": "markdown",
   "id": "774fa4ea",
   "metadata": {},
   "source": [
    "### Scraping the Indvidual University Informations"
   ]
  },
  {
   "cell_type": "code",
   "execution_count": null,
   "id": "a87630fb",
   "metadata": {},
   "outputs": [],
   "source": [
    "university_degrees = []\n",
    "degree_programs = {}\n",
    "tmp_stored_programs_levels = []\n",
    "for name, link in universities.items():\n",
    "    driver.get(link)\n",
    "    #Label = driver.find_element(By.CLASS_NAME, 'tabs')\n",
    "    #inputs = Label.find_elements(By.CSS_SELECTOR, 'input')\n",
    "    #tabs = Label.find_elements(By.CSS_SELECTOR, 'label')\n",
    "    #for i in range(len(tabs)):\n",
    "        #txt = tabs[i].text\n",
    "        #dict = {txt : None}\n",
    "        #degree_programs.append(dict)\n",
    "        #tmp_stored_programs_levels.append(txt)\n",
    "    label = driver.find_elements(By.CLASS_NAME, 'label')\n",
    "    tbody = driver.find_elements(By.CSS_SELECTOR, 'tbody')\n",
    "    i = 0\n",
    "    for body in tbody:\n",
    "        tr = body.find_elements(By.CSS_SELECTOR, 'tr')\n",
    "        grade_level_data = {}\n",
    "        for row in tr:\n",
    "            td = row.find_elements(By.CSS_SELECTOR, 'td')\n",
    "            indvidual_program_info = []\n",
    "            for data in td:\n",
    "                indvidual_program_info.append(data.text)\n",
    "            grade_level_data[indvidual_program_info[0]] = indvidual_program_info[1:]\n",
    "        if len(label) > 0:\n",
    "            degree_programs[label[i].text] = grade_level_data\n",
    "            i += 1\n",
    "        else:\n",
    "            degree_programs['Programs'] = grade_level_data\n",
    "        print(degree_programs)\n",
    "#     panel = Label.find_elements(By.CLASS_NAME, 'panel')\n",
    "#     j = 0\n",
    "#     for t in panel:\n",
    "#         table = t.find_element(By.CSS_SELECTOR, 'table')\n",
    "#         tbody = table.find_element(By.CLASS_NAME, 'para')\n",
    "#         tr = tbody.find_elements(By.CSS_SELECTOR, 'tr')\n",
    "#         programs_info = {}\n",
    "#         for row in tr:\n",
    "#             td = row.find_elements(By.CSS_SELECTOR, 'td')\n",
    "#             name = td[0].find_element(By.CSS_SELECTOR, 'a').text\n",
    "#             duration = td[1].text\n",
    "#             fee = td[2].text\n",
    "#             #deadline = td[3].find_element(By.CSS_SELECTOR, 'a').text\n",
    "#             deadline = td[3].text\n",
    "#             merit = td[4].text\n",
    "#             programs_info[name] = [duration, fee, deadline, merit]\n",
    "#         degree_programs[j][tmp_stored_programs_levels[j]] = programs_info\n",
    "#         j += 1\n",
    "#         university_degrees.append(degree_programs)\n",
    "# print(university_degrees)"
   ]
  }
 ],
 "metadata": {
  "kernelspec": {
   "display_name": "Python 3 (ipykernel)",
   "language": "python",
   "name": "python3"
  },
  "language_info": {
   "codemirror_mode": {
    "name": "ipython",
    "version": 3
   },
   "file_extension": ".py",
   "mimetype": "text/x-python",
   "name": "python",
   "nbconvert_exporter": "python",
   "pygments_lexer": "ipython3",
   "version": "3.10.6"
  }
 },
 "nbformat": 4,
 "nbformat_minor": 5
}
