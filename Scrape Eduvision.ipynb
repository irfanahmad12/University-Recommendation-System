{
 "cells": [
  {
   "cell_type": "markdown",
   "id": "72b3e422",
   "metadata": {},
   "source": [
    "# Import Necessary Modules"
   ]
  },
  {
   "cell_type": "code",
   "execution_count": 1,
   "id": "ca220c22",
   "metadata": {},
   "outputs": [],
   "source": [
    "from selenium.webdriver import Chrome\n",
    "from selenium.webdriver.chrome.service import Service\n",
    "from selenium.webdriver.chrome.options import Options\n",
    "from selenium.webdriver.common.by import By\n",
    "from selenium.webdriver.support.ui import WebDriverWait\n",
    "from selenium.common.exceptions import ElementNotInteractableException, TimeoutException, WebDriverException, ElementClickInterceptedException\n",
    "from selenium.webdriver.support import expected_conditions as EC\n",
    "import openpyxl"
   ]
  },
  {
   "cell_type": "markdown",
   "id": "78ea2948",
   "metadata": {},
   "source": [
    "## Loading Webdriver for selenium"
   ]
  },
  {
   "cell_type": "code",
   "execution_count": 2,
   "id": "9efb0023",
   "metadata": {},
   "outputs": [],
   "source": [
    "ser = Service('/home/irfan/Downloads/chromedriver_linux64')"
   ]
  },
  {
   "cell_type": "markdown",
   "id": "d0d1c69f",
   "metadata": {},
   "source": [
    "## Initializing web driver"
   ]
  },
  {
   "cell_type": "code",
   "execution_count": 3,
   "id": "0f5f7a57",
   "metadata": {},
   "outputs": [],
   "source": [
    "myoptions = Options()\n",
    "driver = Chrome(service=ser, options=myoptions)"
   ]
  },
  {
   "cell_type": "markdown",
   "id": "d63ec412",
   "metadata": {},
   "source": [
    "## Opening the browser or redirecting to the link using get method"
   ]
  },
  {
   "cell_type": "code",
   "execution_count": 4,
   "id": "42d72d3e",
   "metadata": {},
   "outputs": [],
   "source": [
    "driver.get('https://www.eduvision.edu.pk/')"
   ]
  },
  {
   "cell_type": "markdown",
   "id": "cb0894c1",
   "metadata": {},
   "source": [
    "### Using Selenium Selectors, find all the anchor tags having class = 'list_hlaf_block' <br> and extract Universities name nested in anchors tags. <br>Scrape the home page and got anchor tags of all sectors "
   ]
  },
  {
   "cell_type": "code",
   "execution_count": 5,
   "id": "733d041a",
   "metadata": {},
   "outputs": [],
   "source": [
    "sectors_name = []\n",
    "sectors_links = []\n",
    "anchors = driver.find_elements(By.CLASS_NAME, \"list_hlaf_block\")\n",
    "anchors = anchors[-4:-7:-1]\n",
    "for a in anchors:\n",
    "    b = a.find_element(By.CSS_SELECTOR, 'b')\n",
    "    sectors_name.append(b.text)\n",
    "for a in anchors:\n",
    "    sectors_links.append(a.get_attribute('href'))"
   ]
  },
  {
   "cell_type": "markdown",
   "id": "6e88b4a4",
   "metadata": {},
   "source": [
    "### Scraping the links and names of Universities of all Sectors"
   ]
  },
  {
   "cell_type": "code",
   "execution_count": null,
   "id": "e937a7bf",
   "metadata": {
    "scrolled": true
   },
   "outputs": [],
   "source": [
    "institutes = {}\n",
    "def scrape_sectors():\n",
    "    all_divs = driver.find_elements(By.CLASS_NAME, \"threecolumn\")\n",
    "    for div in all_divs:\n",
    "        d = div.find_element(By.CLASS_NAME, 'fixText')\n",
    "        a = d.find_element(By.CSS_SELECTOR, 'a')\n",
    "        anchor = a.get_attribute('href')\n",
    "        name = a.text\n",
    "        institutes[name] = anchor\n",
    "\n",
    "\n",
    "for link in sectors_links:\n",
    "    try:\n",
    "        driver.get(link)\n",
    "        scrape_sectors()\n",
    "    except:\n",
    "        element = WebDriverWait(driver, 5).until(EC.presence_of_element_located((By.TAG_NAME, \"body\")))\n",
    "        while element == '':\n",
    "            driver.refresh()\n",
    "            if driver.title != '':\n",
    "                break\n",
    "        scrape_sectors()"
   ]
  },
  {
   "cell_type": "markdown",
   "id": "774fa4ea",
   "metadata": {},
   "source": [
    "### Scrap_info() <-- this will scrape the information and store into the dictionary"
   ]
  },
  {
   "cell_type": "code",
   "execution_count": null,
   "id": "a87630fb",
   "metadata": {
    "scrolled": true
   },
   "outputs": [],
   "source": [
    "institutes_degrees = {}\n",
    "degree_programs = {}\n",
    "\n",
    "\n",
    "def scrap_info(labels, ta=1):\n",
    "    table = driver.find_elements(By.TAG_NAME, 'table')\n",
    "    for label in labels:\n",
    "        if label.get_attribute('for') == f\"tab-{ta}\":\n",
    "            label.click()\n",
    "            tbody = table[ta-1].find_elements(By.CLASS_NAME, 'para')\n",
    "            ta += 1\n",
    "            for body in tbody:\n",
    "                tr = body.find_elements(By.TAG_NAME, 'tr')\n",
    "                grade_level_data = {}\n",
    "                for row in tr:\n",
    "                    td = row.find_elements(By.TAG_NAME, 'td')\n",
    "                    indvidual_program_info = []\n",
    "                    for data in td:\n",
    "                        indvidual_program_info.append(data.text)\n",
    "                    grade_level_data[indvidual_program_info[0]] = indvidual_program_info[1:]\n",
    "            if len(labels) > 0:\n",
    "                degree_programs[label.text] = grade_level_data\n",
    "            else:\n",
    "                degree_programs['Programs'] = grade_level_data\n",
    "    institutes_degrees[name] = degree_programs\n",
    "\n",
    "\n",
    "for name, link in institutes.items():\n",
    "        try:\n",
    "            driver.get(link)\n",
    "            labels = driver.find_elements(By.CSS_SELECTOR, \"label\")\n",
    "            scrap_info(labels)\n",
    "        except ElementNotInteractableException:\n",
    "            scrap_info(labels, ta=2)\n",
    "        except ElementClickInterceptedException:\n",
    "            try:\n",
    "                wait = WebDriverWait(driver, 10).until(EC.element_to_be_clickable((By.CSS_SELECTOR, \"label\")))\n",
    "            except:\n",
    "                overlay = driver.find_element(By.CSS_SELECTOR, \"label\")\n",
    "                if overlay.is_displayed():\n",
    "                    overlay.click()\n",
    "                else:\n",
    "                    continue\n",
    "        except (TimeoutException, WebDriverException):\n",
    "            element = WebDriverWait(driver, 5).until(EC.presence_of_element_located((By.TAG_NAME, \"body\")))\n",
    "            while element == '':\n",
    "                driver.refresh()\n",
    "                if driver.title != '':\n",
    "                    break\n",
    "            labels = driver.find_elements(By.CSS_SELECTOR, \"label\")\n",
    "            scrap_info(labels)"
   ]
  },
  {
   "cell_type": "markdown",
   "id": "2a1e3877",
   "metadata": {},
   "source": [
    "# Retrieved data will be stored into text file"
   ]
  },
  {
   "cell_type": "code",
   "execution_count": null,
   "id": "27846b29",
   "metadata": {},
   "outputs": [],
   "source": [
    "def write_data_into_text_file():\n",
    "    with open('scraped data.txt', 'w') as file:\n",
    "        for uni, uni_info in institutes_degrees.items():\n",
    "            file.write(f\"{uni}\\n\")\n",
    "            for level, program in uni_info.items():\n",
    "                file.write(f\"------{level}------\\n\")\n",
    "                for name, info in program.items():\n",
    "                    file.write(f\"{name}\\t\")\n",
    "                    for data in info:\n",
    "                        file.write(f\"{data}\\t\")\n",
    "                    file.write('\\n')\n",
    "\n",
    "write_data_into_text_file()"
   ]
  },
  {
   "cell_type": "markdown",
   "id": "22443938",
   "metadata": {},
   "source": [
    "# If you want to store the whole data in Excel"
   ]
  },
  {
   "cell_type": "code",
   "execution_count": null,
   "id": "f79a2cd1",
   "metadata": {},
   "outputs": [],
   "source": [
    "def header(c, r, worksheet):\n",
    "    worksheet.cell(row=r+1, column=c, value='Program')\n",
    "    worksheet.cell(row=r+1, column=c+1, value='Durations')\n",
    "    worksheet.cell(row=r+1, column=c+2, value='Fee')\n",
    "    worksheet.cell(row=r+1, column=c+3, value='Deadline')\n",
    "    worksheet.cell(row=r+1, column=c+4, value='Merit')\n",
    "    return c+4\n",
    "    \n",
    "def write_in_excel():\n",
    "    filename = \"Universities.xlsx\"\n",
    "    workbook = openpyxl.Workbook()\n",
    "    worksheet = workbook.active\n",
    "    worksheet.title = \"institutes\"\n",
    "    main_header = 'Institutes'\n",
    "    cell = worksheet.cell(row=1, column=1)\n",
    "    cell.value = main_header\n",
    "    r = 2\n",
    "    for uni_name, uni_info in institutes_degrees.items():\n",
    "        main_header = uni_name\n",
    "        cell = worksheet.cell(row=r, column=1)\n",
    "        cell.value = main_header\n",
    "        c = 2\n",
    "        for level, prog in uni_info.items():\n",
    "            worksheet.cell(row=r, column=c, value=level)\n",
    "            c = header(c, r, worksheet)\n",
    "        c = 2\n",
    "        tmp1 = 0\n",
    "        for prog in uni_info.values():\n",
    "            tmp = 0\n",
    "            for progr, prog_info in prog.items():\n",
    "                r += 1\n",
    "                worksheet.cell(row=r, column=c, value=progr)\n",
    "                for info in prog_info:\n",
    "                    c += 1\n",
    "                    worksheet.cell(row=r, column=c, value=info)\n",
    "                c -= len(prog_info)\n",
    "                tmp += 1\n",
    "            c += len(prog_info)\n",
    "            r -= tmp\n",
    "            tmp1 = tmp\n",
    "        r += tmp1\n",
    "    workbook.save(filename)\n",
    "\n",
    "write_in_excel()"
   ]
  }
 ],
 "metadata": {
  "kernelspec": {
   "display_name": "Python 3 (ipykernel)",
   "language": "python",
   "name": "python3"
  },
  "language_info": {
   "codemirror_mode": {
    "name": "ipython",
    "version": 3
   },
   "file_extension": ".py",
   "mimetype": "text/x-python",
   "name": "python",
   "nbconvert_exporter": "python",
   "pygments_lexer": "ipython3",
   "version": "3.10.6"
  }
 },
 "nbformat": 4,
 "nbformat_minor": 5
}
